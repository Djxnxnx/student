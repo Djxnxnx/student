{
 "cells": [
  {
   "cell_type": "markdown",
   "metadata": {},
   "source": [
    "---\n",
    "layout: post\n",
    "title: Passion Project Plan\n",
    "description: Our plan for the passion project.\n",
    "toc: false\n",
    "comments: true\n",
    "categories: [5.A, C4.1]\n",
    "courses: { compsci: {week: 8} }\n",
    "type: plans\n",
    "---"
   ]
  },
  {
   "cell_type": "markdown",
   "metadata": {},
   "source": [
    "# Flappy Bird Project Plan\n",
    "- We want to create our version of the Flappy Bird using Comp Scie Education, loops, objects, and maybe adding our own characters.\n",
    "\n",
    "\n",
    "# Background:\n",
    "\n",
    "## Tejas M (Scrum Master)\n",
    "- Introduce basic concepts\n",
    "- Make game simple and easily understood\n",
    "- Integrate aspects of real flappy bird into game\n",
    "\n",
    "## Tanuj N (Frontend Dev.)\n",
    "- Background that never ends\n",
    "- sourcing image files\n",
    "- Score display\n",
    "- Moving Bird\n",
    "\n",
    "## Tarun T + Chris P (Backend Dev.)\n",
    "- Obstacle Code\n",
    "- Data Storing\n",
    "\n",
    "# Phase Plan:\n",
    "\n",
    "## Intro Menu screen:\n",
    "\n",
    "- Menu with developer resources\n",
    "- This leads to the difficulty selector\n",
    "- Background music\n",
    "\n",
    "## Play screen:\n",
    "\n",
    "- Actual gameplay\n",
    "- Find pipe jpeg’s\n",
    "- Find loop for background and keep smooth\n",
    "- Cloud effects?\n",
    "- Sound effects\n",
    "\n",
    "## End screen:\n",
    "\n",
    "- Game over screen\n",
    "- Points scored\n",
    "- Time lasted\n",
    "- Record keeping\n",
    "- New game button"
   ]
  }
 ],
 "metadata": {
  "language_info": {
   "name": "python"
  },
  "orig_nbformat": 4
 },
 "nbformat": 4,
 "nbformat_minor": 2
}
