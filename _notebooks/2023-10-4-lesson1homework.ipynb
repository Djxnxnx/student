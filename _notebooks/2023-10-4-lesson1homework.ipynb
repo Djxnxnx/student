{
 "cells": [
  {
   "cell_type": "markdown",
   "metadata": {},
   "source": [
    "---\n",
    "layout: post\n",
    "title: Lesson 1 Homework\n",
    "description: My lesson 1 homework.\n",
    "toc: false\n",
    "comments: true\n",
    "categories: [5.A, C4.1]\n",
    "courses: { compsci: {week: 6} }\n",
    "type: tangibles\n",
    "---"
   ]
  },
  {
   "cell_type": "code",
   "execution_count": 2,
   "metadata": {
    "vscode": {
     "languageId": "javascript"
    }
   },
   "outputs": [
    {
     "data": {
      "application/javascript": "\nvar person = {\n    name: \"Tarun\",\n    age: 14,\n    height: 64,\n    weight: 105\n}\n\nconsole.log(\"My name is \" + person.name);\nconsole.log(\"I am \" + person.age + \" years old.\");\nconsole.log(\"I am \" + person.height + \" inches tall\");\nconsole.log(\"I am \" + person.weight + \" pounds\");\n",
      "text/plain": [
       "<IPython.core.display.Javascript object>"
      ]
     },
     "metadata": {},
     "output_type": "display_data"
    }
   ],
   "source": [
    "%%js\n",
    "\n",
    "var person = {\n",
    "    name: \"Tarun\",\n",
    "    age: 14,\n",
    "    height: 64,\n",
    "    weight: 105\n",
    "}\n",
    "\n",
    "console.log(\"My name is \" + person.name);\n",
    "console.log(\"I am \" + person.age + \" years old.\");\n",
    "console.log(\"I am \" + person.height + \" inches tall\");\n",
    "console.log(\"I am \" + person.weight + \" pounds\");"
   ]
  }
 ],
 "metadata": {
  "kernelspec": {
   "display_name": "Python 3",
   "language": "python",
   "name": "python3"
  },
  "language_info": {
   "codemirror_mode": {
    "name": "ipython",
    "version": 3
   },
   "file_extension": ".py",
   "mimetype": "text/x-python",
   "name": "python",
   "nbconvert_exporter": "python",
   "pygments_lexer": "ipython3",
   "version": "3.11.5"
  },
  "orig_nbformat": 4
 },
 "nbformat": 4,
 "nbformat_minor": 2
}
