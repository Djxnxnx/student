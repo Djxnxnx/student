{
 "cells": [
  {
   "cell_type": "markdown",
   "metadata": {},
   "source": [
    "---\n",
    "layout: post\n",
    "title: Review Ticket\n",
    "description: Review ticket for web basics programming ticket.\n",
    "toc: false\n",
    "comments: true\n",
    "categories: [5.A, C4.1]\n",
    "courses: { compsci: {week: 6} }\n",
    "type: tangibles\n",
    "---"
   ]
  },
  {
   "cell_type": "markdown",
   "metadata": {},
   "source": [
    "## What we learned\n",
    "We learned how to use basic javascript, HTML, js datatypes, and combine js and HTML.\n",
    "## What we created\n",
    "SOmegthings we did with these concepts include turning a string into a list, making HTML tags, pushing and pulling information, and switchingf betwwen different links in HTML."
   ]
  },
  {
   "cell_type": "markdown",
   "metadata": {},
   "source": [
    "\n",
    "\n",
    "<script src=\"https://utteranc.es/client.js\"\n",
    "        repo=\"student\"\n",
    "        issue-term=\"pathname\"\n",
    "        theme=\"github-light\"\n",
    "        crossorigin=\"anonymous\"\n",
    "        async>\n",
    "</script>\n"
   ]
  }
 ],
 "metadata": {
  "language_info": {
   "name": "python"
  },
  "orig_nbformat": 4
 },
 "nbformat": 4,
 "nbformat_minor": 2
}
