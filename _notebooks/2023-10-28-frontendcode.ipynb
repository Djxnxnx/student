{
 "cells": [
  {
   "cell_type": "markdown",
   "metadata": {},
   "source": [
    "---\n",
    "layout: post\n",
    "title: Passion Project Front End\n",
    "description: Passion project front end.\n",
    "toc: false\n",
    "comments: true\n",
    "categories: [5.A, C4.1]\n",
    "courses: { compsci: {week: 7} }\n",
    "type: plans\n",
    "---"
   ]
  },
  {
   "cell_type": "code",
   "execution_count": 13,
   "metadata": {
    "vscode": {
     "languageId": "html"
    }
   },
   "outputs": [
    {
     "data": {
      "text/html": [
       "<html>\n",
       "<head>\n",
       "    <title>Recipe Finder</title>\n",
       "</head>\n",
       "<script>\n",
       "    async function getData()\n",
       "    {\n",
       "        ingredients = document.getElementById('ingredients').value;\n",
       "        \n",
       "        \n",
       "            const apiUrl = \"http://127.0.0.1:8762/api/recipes/getrecipes/\"+ingredients;\n",
       "            \n",
       "                       \n",
       "    const response = await fetch(apiUrl);\n",
       "    var data =  await response.json();\n",
       "      console.log(data);\n",
       "          let text = \"<table border='1'>\"\n",
       "  for (let x in data) {\n",
       "    text += \"<tr><td>\" + data[x].title + \"</td></tr>\";\n",
       "    text += \"<tr><td>\" + data[x].image + \"</td></tr>\";\n",
       "    text += \"<tr><td>\" + data[x].likes + \"</td></tr>\";\n",
       "    text += \"<tr><td>\" + data[x].id + \"</td></tr>\";\n",
       "    text += \"<tr><td>\" + data[x].usedingridents + \"</td></tr>\";\n",
       "    \n",
       "  }\n",
       "     \n",
       "       text += \"</table>\"\n",
       "  document.getElementById(\"recipeForm\").innerHTML = text;\n",
       "     \n",
       "    };\n",
       "\n",
       "</script>\n",
       "\n",
       "<body>\n",
       "    <h1>Recipe Finder</h1>\n",
       "    <form id=\"recipeForm\">\n",
       "        <label for=\"ingredients\">Enter ingredients (comma-separated):</label>\n",
       "        <input type=\"text\" name=\"ingredients\" id=\"ingredients\" required>\n",
       "        <button type=\"button\" onClick='getData()'>Find Recipe</button>\n",
       "    </form>\n",
       "</body>\n"
      ],
      "text/plain": [
       "<IPython.core.display.HTML object>"
      ]
     },
     "metadata": {},
     "output_type": "display_data"
    }
   ],
   "source": [
    "%%html\n",
    "<html>\n",
    "<head>\n",
    "    <title>Recipe Finder</title>\n",
    "</head>\n",
    "<script>\n",
    "    async function getData()\n",
    "    {\n",
    "        ingredients = document.getElementById('ingredients').value;\n",
    "        \n",
    "        \n",
    "            const apiUrl = \"http://127.0.0.1:8762/api/recipes/getrecipes/\"+ingredients;\n",
    "            \n",
    "                       \n",
    "    const response = await fetch(apiUrl);\n",
    "    var data =  await response.json();\n",
    "      console.log(data);\n",
    "          let text = \"<table border='1'>\"\n",
    "  for (let x in data) {\n",
    "    text += \"<tr><td>\" + data[x].title + \"</td></tr>\";\n",
    "    text += \"<tr><td>\" + data[x].image + \"</td></tr>\";\n",
    "    text += \"<tr><td>\" + data[x].likes + \"</td></tr>\";\n",
    "    text += \"<tr><td>\" + data[x].id + \"</td></tr>\";\n",
    "    text += \"<tr><td>\" + data[x].usedingredients + \"</td></tr>\";\n",
    "    \n",
    "  }\n",
    "     \n",
    "       text += \"</table>\"\n",
    "  document.getElementById(\"recipeForm\").innerHTML = text;\n",
    "     \n",
    "    };\n",
    "\n",
    "</script>\n",
    "\n",
    "\n",
    "<!-- Searchbar Code -->\n",
    "<body>\n",
    "    <h1>Recipe Finder</h1>\n",
    "    <form id=\"recipeForm\">\n",
    "        <label for=\"ingredients\">Enter ingredients (comma-separated):</label>\n",
    "        <input type=\"text\" name=\"ingredients\" id=\"ingredients\" required>\n",
    "        <button type=\"button\" onClick='getData()'>Find Recipe</button>\n",
    "    </form>\n",
    "</body>"
   ]
  }
 ],
 "metadata": {
  "kernelspec": {
   "display_name": "Python 3",
   "language": "python",
   "name": "python3"
  },
  "language_info": {
   "codemirror_mode": {
    "name": "ipython",
    "version": 3
   },
   "file_extension": ".py",
   "mimetype": "text/x-python",
   "name": "python",
   "nbconvert_exporter": "python",
   "pygments_lexer": "ipython3",
   "version": "3.8.2"
  },
  "orig_nbformat": 4
 },
 "nbformat": 4,
 "nbformat_minor": 2
}
