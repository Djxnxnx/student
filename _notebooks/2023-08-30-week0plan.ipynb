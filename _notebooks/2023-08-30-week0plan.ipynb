{
 "cells": [
  {
   "cell_type": "markdown",
   "metadata": {},
   "source": [
    "---\n",
    "layout: post\n",
    "title: Week 0 Plan\n",
    "description: What I hope to do in week 1.\n",
    "toc: false\n",
    "comments: false\n",
    "categories: [5.A, C4.1]\n",
    "courses: { compsci: {week: 0} }\n",
    "type: plans\n",
    "---\n",
    "\n"
   ]
  },
  {
   "cell_type": "markdown",
   "metadata": {},
   "source": [
    "&nbsp;         \n",
    "&nbsp;         \n",
    "&nbsp;         \n",
    "&nbsp;         \n",
    "&nbsp;         \n",
    "&nbsp;         \n",
    "&nbsp;         \n",
    "&nbsp;         \n",
    "&nbsp; \n",
    "\n",
    "## Plans\n",
    "\n",
    "I hope to get my local host up and running while downloading all the necessary tools."
   ]
  }
 ],
 "metadata": {
  "language_info": {
   "name": "python"
  },
  "orig_nbformat": 4
 },
 "nbformat": 4,
 "nbformat_minor": 2
}
