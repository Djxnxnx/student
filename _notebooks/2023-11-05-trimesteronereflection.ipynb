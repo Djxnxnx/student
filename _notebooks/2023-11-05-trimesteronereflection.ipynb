{
 "cells": [
  {
   "cell_type": "markdown",
   "metadata": {},
   "source": [
    "---\n",
    "layout: post\n",
    "title: Trimester 1 Reflection\n",
    "description: My tri 1 reflection.\n",
    "toc: false\n",
    "comments: false\n",
    "categories: [5.A, C4.1]\n",
    "courses: { compsci: {week: 12} }\n",
    "type: tangibles\n",
    "---"
   ]
  },
  {
   "cell_type": "markdown",
   "metadata": {},
   "source": [
    "## My trimester one reflection\n",
    "\n",
    "Throughout this trimester, I've learned several things that range from how to create a plan for a project to getting JSON data from a backend repository via an API. Some positive accomplishments I've had include figuring out how to connect a frontend and backend repository using the fetch command. I also got hands on experience with HTML, JavaScript, and Python which helped advance me in my knowledge of coding. Also, I learned what an API was and how to work with it which is probably going to be helpful for my future. Some opportunities for growth I have is learning how to design the frontend of a website better using HTML. While I got the basic design for a website, I would like to further my knowledge and dive further into the topic. I hope to learn more about APIs work and how the fetch command work because I find it fascinating that we can get data from one place and transfer it to another. This is my trimester one reflection.\n"
   ]
  }
 ],
 "metadata": {
  "language_info": {
   "name": "python"
  },
  "orig_nbformat": 4
 },
 "nbformat": 4,
 "nbformat_minor": 2
}
