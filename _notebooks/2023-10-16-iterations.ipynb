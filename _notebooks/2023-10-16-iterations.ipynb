{
 "cells": [
  {
   "cell_type": "markdown",
   "metadata": {},
   "source": [
    "---\n",
    "layout: post\n",
    "title: Iterations\n",
    "description: Iteration homework.\n",
    "toc: false\n",
    "comments: true\n",
    "categories: [5.A, C4.1]\n",
    "courses: { compsci: {week: 7} }\n",
    "type: hacks\n",
    "---"
   ]
  },
  {
   "cell_type": "code",
   "execution_count": null,
   "metadata": {},
   "outputs": [],
   "source": [
    "def myDailyLife():\n",
    "    myDailyActivities = [\n",
    "        \"Wake up\",\n",
    "        \"Get ready\",\n",
    "        \"Eat breakfast\",\n",
    "        \"Go to school\",\n",
    "        \"Eat lunch\",\n",
    "        \"Come home\",\n",
    "        \"Do homework\",\n",
    "        \"Eat dinner\",\n",
    "        \"Relax\",\n",
    "        \"Go to bed\",\n",
    "    ]\n",
    "\n",
    "  \n",
    "    \n",
    "    for activity in myDailyActivities:\n",
    "        print(f\"Now: {activity}\")\n",
    "    \n",
    "    print(\"End of the day.\")\n",
    "\n",
    "myDailyLife()\n"
   ]
  }
 ],
 "metadata": {
  "kernelspec": {
   "display_name": "Python 3",
   "language": "python",
   "name": "python3"
  },
  "language_info": {
   "codemirror_mode": {
    "name": "ipython",
    "version": 3
   },
   "file_extension": ".py",
   "mimetype": "text/x-python",
   "name": "python",
   "nbconvert_exporter": "python",
   "pygments_lexer": "ipython3",
   "version": "3.8.2"
  },
  "orig_nbformat": 4
 },
 "nbformat": 4,
 "nbformat_minor": 2
}
