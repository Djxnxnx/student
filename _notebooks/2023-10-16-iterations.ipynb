{
 "cells": [
  {
   "cell_type": "markdown",
   "metadata": {},
   "source": [
    "---\n",
    "layout: post\n",
    "title: Iterations\n",
    "description: Iteration homework.\n",
    "toc: false\n",
    "comments: true\n",
    "categories: [5.A, C4.1]\n",
    "courses: { compsci: {week: 7} }\n",
    "type: tangibles\n",
    "---"
   ]
  },
  {
   "cell_type": "code",
   "execution_count": null,
   "metadata": {},
   "outputs": [],
   "source": [
    "def simulate_daily_life(activity_index):\n",
    "    #list of daily acitivites\n",
    "    daily_activities = [\n",
    "        \"Wake up\",\n",
    "        \"Get ready\",\n",
    "        \"Eat breakfast\",\n",
    "        \"Go to school\",\n",
    "        \"Eat lunch\",\n",
    "        \"Come home\",\n",
    "        \"Do homework\",\n",
    "        \"Eat dinner\",\n",
    "        \"Relax\",\n",
    "        \"Go to bed\",\n",
    "    ]\n",
    "    # keep printing your daily activities with \"Now\" infront of them\n",
    "    if activity_index < len(daily_activities):\n",
    "        print(f\"Now: {daily_activities[activity_index]}\")\n",
    "        simulate_daily_life(activity_index + 1)\n",
    "    else:\n",
    "        #at the end print \"End of the day\"\n",
    "        print(\"End of the day.\")\n",
    "#then print a new day begins\n",
    "print(\"A new day begins.\")\n",
    "simulate_daily_life(0)"
   ]
  }
 ],
 "metadata": {
  "kernelspec": {
   "display_name": "Python 3",
   "language": "python",
   "name": "python3"
  },
  "language_info": {
   "codemirror_mode": {
    "name": "ipython",
    "version": 3
   },
   "file_extension": ".py",
   "mimetype": "text/x-python",
   "name": "python",
   "nbconvert_exporter": "python",
   "pygments_lexer": "ipython3",
   "version": "3.8.2"
  },
  "orig_nbformat": 4
 },
 "nbformat": 4,
 "nbformat_minor": 2
}
