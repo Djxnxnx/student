{
 "cells": [
  {
   "cell_type": "markdown",
   "metadata": {},
   "source": [
    "---\n",
    "layout: post\n",
    "title: Collecting User Input\n",
    "description: Our code to collect user input.\n",
    "toc: false\n",
    "comments: false\n",
    "categories: [5.A, C4.1]\n",
    "courses: { compsci: {week: 9} }\n",
    "type: hacks\n",
    "---"
   ]
  },
  {
   "cell_type": "code",
   "execution_count": null,
   "metadata": {
    "vscode": {
     "languageId": "html"
    }
   },
   "outputs": [],
   "source": [
    "<!DOCTYPE html>\n",
    "<html>\n",
    "<head>\n",
    "    <title>Recipe Finder</title>\n",
    "</head>\n",
    "<body>\n",
    "    <h1>Recipe Finder</h1>\n",
    "    <form method=\"POST\">\n",
    "        <label for=\"ingredients\">Enter ingredients (comma-separated):</label>\n",
    "        <input type=\"text\" name=\"ingredients\" id=\"ingredients\" required>\n",
    "        <input type=\"submit\" value=\"Find Recipes\">\n",
    "    </form>\n",
    "</body>\n",
    "</html>"
   ]
  }
 ],
 "metadata": {
  "language_info": {
   "name": "python"
  },
  "orig_nbformat": 4
 },
 "nbformat": 4,
 "nbformat_minor": 2
}
