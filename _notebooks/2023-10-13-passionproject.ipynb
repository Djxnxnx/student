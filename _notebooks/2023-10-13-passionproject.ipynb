{
 "cells": [
  {
   "cell_type": "markdown",
   "metadata": {},
   "source": [
    "---\n",
    "layout: post\n",
    "title: Passion Project Front End\n",
    "description: Our passion project.\n",
    "toc: false\n",
    "comments: true\n",
    "categories: [5.A, C4.1]\n",
    "courses: { compsci: {week: 7} }\n",
    "type: tangibles\n",
    "---"
   ]
  },
  {
   "cell_type": "code",
   "execution_count": null,
   "metadata": {},
   "outputs": [],
   "source": [
    "import requests\n",
    "\n",
    "# Replace 'YOUR_SPOONACULAR_API_KEY' with your actual API key\n",
    "api_key = '84cfe45628de456c87a13a80b76f5bd8'\n",
    "\n",
    "def find_recipes_by_ingredients(ingredients):\n",
    "    base_url = 'https://api.spoonacular.com/recipes/findByIngredients'\n",
    "    params = {\n",
    "        'ingredients': ','.join(ingredients),\n",
    "        'apiKey': api_key\n",
    "    }\n",
    "\n",
    "    try:\n",
    "        response = requests.get(base_url, params=params)\n",
    "        response.raise_for_status()\n",
    "        recipes = response.json()\n",
    "\n",
    "        if not recipes:\n",
    "            print('No recipes found for the given ingredients.')\n",
    "        else:\n",
    "            for recipe in recipes:\n",
    "                print(f\"Recipe: {recipe['title']}\")\n",
    "                missed_ingredients = [ingredient['name'] for ingredient in recipe['missedIngredients']]\n",
    "                used_ingredients = [ingredient['name'] for ingredient in recipe['usedIngredients']]\n",
    "                print(f\"Missing Ingredients: {', '.join(missed_ingredients)}\")\n",
    "                print(f\"Used Ingredients: {', '.join(used_ingredients)}\")\n",
    "                print(f\"Likes: {recipe['likes']}\")\n",
    "                print()\n",
    "\n",
    "    except requests.exceptions.RequestException as e:\n",
    "        print(f\"An error occurred: {e}\")\n",
    "\n",
    "if __name__ == '__main__':\n",
    "    ingredients = input(\"Enter ingredients (comma-separated): \").split(',')\n",
    "    find_recipes_by_ingredients(ingredients)\n"
   ]
  }
 ],
 "metadata": {
  "kernelspec": {
   "display_name": "Python 3",
   "language": "python",
   "name": "python3"
  },
  "language_info": {
   "codemirror_mode": {
    "name": "ipython",
    "version": 3
   },
   "file_extension": ".py",
   "mimetype": "text/x-python",
   "name": "python",
   "nbconvert_exporter": "python",
   "pygments_lexer": "ipython3",
   "version": "3.8.2"
  },
  "orig_nbformat": 4
 },
 "nbformat": 4,
 "nbformat_minor": 2
}
