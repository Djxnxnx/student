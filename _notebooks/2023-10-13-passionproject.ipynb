{
 "cells": [
  {
   "cell_type": "markdown",
   "metadata": {},
   "source": [
    "---\n",
    "layout: post\n",
    "title: Passion Project Front End\n",
    "description: Our passion project.\n",
    "toc: false\n",
    "comments: true\n",
    "categories: [5.A, C4.1]\n",
    "courses: { compsci: {week: 7} }\n",
    "type: tangibles\n",
    "---"
   ]
  },
  {
   "cell_type": "code",
   "execution_count": 1,
   "metadata": {
    "vscode": {
     "languageId": "html"
    }
   },
   "outputs": [
    {
     "data": {
      "text/html": [
       "\n",
       "<!DOCTYPE html>\n",
       "<html>\n",
       "<head>\n",
       "    <title>Recipe Finder</title>\n",
       "</head>\n",
       "<body>\n",
       "    <h1>Recipe Finder</h1>\n",
       "    <form id=\"recipeForm\">\n",
       "        <label for=\"ingredients\">Enter ingredients (comma-separated):</label>\n",
       "        <input type=\"text\" name=\"ingredients\" id=\"ingredients\" required>\n",
       "        <input type=\"submit\" value=\"Find Recipes\">\n",
       "    </form>\n",
       "    <div>\n",
       "        <h2>Results:</h2>\n",
       "        <div id=\"results\">\n",
       "        </div>\n",
       "    </div>\n",
       "    <script>\n",
       "        document.getElementById('recipeForm').addEventListener('submit', function (event) {\n",
       "            event.preventDefault();\n",
       "            const apiKey = '84cfe45628de456c87a13a80b76f5bd8';\n",
       "            const ingredients = document.getElementById('ingredients').value;\n",
       "            const apiUrl = `https://api.spoonacular.com/recipes/findByIngredients?apiKey=${apiKey}&ingredients=${ingredients}`;\n",
       "            fetch(apiUrl)\n",
       "                .then(response => response.json())\n",
       "                .then(data => {\n",
       "                    const resultsDiv = document.getElementById('results');\n",
       "                    resultsDiv.innerHTML = ''; // Clear previous results\n",
       "                    if (data.length === 0) {\n",
       "                        resultsDiv.textContent = 'No recipes found for these ingredients.';\n",
       "                    } else {\n",
       "                        const ul = document.createElement('ul');\n",
       "                        data.forEach(recipe => {\n",
       "                            const li = document.createElement('li');\n",
       "                            li.textContent = recipe.title;\n",
       "                            ul.appendChild(li);\n",
       "                        });\n",
       "                        resultsDiv.appendChild(ul);\n",
       "                    }\n",
       "                })\n",
       "                .catch(error => {\n",
       "                    console.error('Error fetching recipes:', error);\n",
       "                });\n",
       "        });\n",
       "    </script>\n",
       "</body>\n",
       "</html>\n"
      ],
      "text/plain": [
       "<IPython.core.display.HTML object>"
      ]
     },
     "metadata": {},
     "output_type": "display_data"
    }
   ],
   "source": [
    "from IPython.display import display, HTML\n",
    "html_code = \"\"\"\n",
    "<!DOCTYPE html>\n",
    "<html>\n",
    "<head>\n",
    "    <title>Recipe Finder</title>\n",
    "</head>\n",
    "<body>\n",
    "    <h1>Recipe Finder</h1>\n",
    "    <form id=\"recipeForm\">\n",
    "        <label for=\"ingredients\">Enter ingredients (comma-separated):</label>\n",
    "        <input type=\"text\" name=\"ingredients\" id=\"ingredients\" required>\n",
    "        <input type=\"submit\" value=\"Find Recipes\">\n",
    "    </form>\n",
    "    <div>\n",
    "        <h2>Results:</h2>\n",
    "        <div id=\"results\">\n",
    "        </div>\n",
    "    </div>\n",
    "    <script>\n",
    "        document.getElementById('recipeForm').addEventListener('submit', function (event) {\n",
    "            event.preventDefault();\n",
    "            const apiKey = '84cfe45628de456c87a13a80b76f5bd8';\n",
    "            const ingredients = document.getElementById('ingredients').value;\n",
    "            const apiUrl = `https://api.spoonacular.com/recipes/findByIngredients?apiKey=${apiKey}&ingredients=${ingredients}`;\n",
    "            fetch(apiUrl)\n",
    "                .then(response => response.json())\n",
    "                .then(data => {\n",
    "                    const resultsDiv = document.getElementById('results');\n",
    "                    resultsDiv.innerHTML = ''; // Clear previous results\n",
    "                    if (data.length === 0) {\n",
    "                        resultsDiv.textContent = 'No recipes found for these ingredients.';\n",
    "                    } else {\n",
    "                        const ul = document.createElement('ul');\n",
    "                        data.forEach(recipe => {\n",
    "                            const li = document.createElement('li');\n",
    "                            li.textContent = recipe.title;\n",
    "                            ul.appendChild(li);\n",
    "                        });\n",
    "                        resultsDiv.appendChild(ul);\n",
    "                    }\n",
    "                })\n",
    "                .catch(error => {\n",
    "                    console.error('Error fetching recipes:', error);\n",
    "                });\n",
    "        });\n",
    "    </script>\n",
    "</body>\n",
    "</html>\n",
    "\"\"\"\n",
    "display(HTML(html_code))\n"
   ]
  }
 ],
 "metadata": {
  "kernelspec": {
   "display_name": "Python 3",
   "language": "python",
   "name": "python3"
  },
  "language_info": {
   "codemirror_mode": {
    "name": "ipython",
    "version": 3
   },
   "file_extension": ".py",
   "mimetype": "text/x-python",
   "name": "python",
   "nbconvert_exporter": "python",
   "pygments_lexer": "ipython3",
   "version": "3.11.4"
  },
  "orig_nbformat": 4
 },
 "nbformat": 4,
 "nbformat_minor": 2
}
