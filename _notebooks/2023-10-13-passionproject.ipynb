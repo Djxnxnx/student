{
 "cells": [
  {
   "cell_type": "markdown",
   "metadata": {},
   "source": [
    "---\n",
    "layout: post\n",
    "title: Passion Project Front End\n",
    "description: Our passion project.\n",
    "toc: false\n",
    "comments: true\n",
    "categories: [5.A, C4.1]\n",
    "courses: { compsci: {week: 7} }\n",
    "type: tangibles\n",
    "---"
   ]
  },
  {
   "cell_type": "code",
<<<<<<< HEAD
   "execution_count": 4,
=======
   "execution_count": 5,
>>>>>>> 1300410eff526543e76dfce2f973581644263800
   "metadata": {},
   "outputs": [
    {
     "data": {
      "text/html": [
       "\n",
       "<!DOCTYPE html>\n",
       "<html>\n",
       "<head>\n",
       "    <title>Recipe Finder</title>\n",
       "</head>\n",
       "<body>\n",
       "    <h1>Recipe Finder</h1>\n",
       "    <form id=\"recipeForm\">\n",
       "        <label for=\"ingredients\">Enter ingredients (comma-separated):</label>\n",
       "        <input type=\"text\" name=\"ingredients\" id=\"ingredients\" required>\n",
       "        <input type=\"submit\" value=\"Find Recipes\">\n",
       "    </form>\n",
       "    <div>\n",
       "        <h2>Results:</h2>\n",
       "        <ul id=\"results\"></ul>\n",
       "    </div>\n",
       "    <script>\n",
       "        document.getElementById('recipeForm').addEventListener('submit', function (event) {\n",
       "            event.preventDefault();\n",
       "            const apiKey = '84cfe45628de456c87a13a80b76f5bd8'; // Replace with your Spoonacular API key\n",
       "            const ingredients = document.getElementById('ingredients').value;\n",
       "            const apiUrl = `https://api.spoonacular.com/recipes/findByIngredients?apiKey=${apiKey}&ingredients=${ingredients}`;\n",
       "            fetch(apiUrl)\n",
       "                .then(response => response.json())\n",
       "                .then(data => {\n",
       "                    const resultsList = document.getElementById('results');\n",
       "                    resultsList.innerHTML = ''; // Clear previous results\n",
       "                    if (data.length === 0) {\n",
       "                        const noResultsItem = document.createElement('li');\n",
<<<<<<< HEAD
=======
       "                        // this takes care of the alternative in a lack of recipies\n",
>>>>>>> 1300410eff526543e76dfce2f973581644263800
       "                        noResultsItem.textContent = 'No recipes found for these ingredients.';\n",
       "                        resultsList.appendChild(noResultsItem);\n",
       "                    } else {\n",
       "                        data.forEach(recipe => {\n",
       "                            const recipeItem = document.createElement('li');\n",
       "                            recipeItem.innerHTML = `<strong>${recipe.title}</strong>`;\n",
       "                            // Create a list of missing ingredients\n",
       "                            const missingIngredients = recipe.missedIngredients.map(ingredient => ingredient.name);\n",
       "                            // Add missing ingredients to the list item\n",
       "                            recipeItem.innerHTML += `<br>Missing Ingredients: ${missingIngredients.join(', ')}`;\n",
       "                            resultsList.appendChild(recipeItem);\n",
       "                        });\n",
       "                    }\n",
       "                })\n",
       "                .catch(error => {\n",
       "                    console.error('Error fetching recipes:', error);\n",
       "                });\n",
       "        });\n",
       "    </script>\n",
       "</body>\n",
       "</html>\n"
      ],
      "text/plain": [
       "<IPython.core.display.HTML object>"
      ]
     },
     "metadata": {},
     "output_type": "display_data"
    }
   ],
   "source": [
    "from IPython.display import display, HTML\n",
    "\n",
    "html_code = \"\"\"\n",
    "<!DOCTYPE html>\n",
    "<html>\n",
    "<head>\n",
    "    <title>Recipe Finder</title>\n",
    "</head>\n",
    "<body>\n",
    "    <h1>Recipe Finder</h1>\n",
    "    <form id=\"recipeForm\">\n",
    "        <label for=\"ingredients\">Enter ingredients (comma-separated):</label>\n",
    "        <input type=\"text\" name=\"ingredients\" id=\"ingredients\" required>\n",
    "        <input type=\"submit\" value=\"Find Recipes\">\n",
    "    </form>\n",
    "    <div>\n",
    "        <h2>Results:</h2>\n",
    "        <ul id=\"results\"></ul>\n",
    "    </div>\n",
    "    <script>\n",
    "        // javascript codes\n",
    "        document.getElementById('recipeForm').addEventListener('submit', function (event) {\n",
    "            event.preventDefault();\n",
<<<<<<< HEAD
    "            const apiKey = '84cfe45628de456c87a13a80b76f5bd8'; // Replace with your Spoonacular API key\n",
=======
    "            const apiKey = '84cfe45628de456c87a13a80b76f5bd8';  // Replace with your Spoonacular API key\n",
>>>>>>> 1300410eff526543e76dfce2f973581644263800
    "            const ingredients = document.getElementById('ingredients').value;\n",
    "            const apiUrl = `https://api.spoonacular.com/recipes/findByIngredients?apiKey=${apiKey}&ingredients=${ingredients}`;\n",
    "            fetch(apiUrl)\n",
    "                .then(response => response.json())\n",
    "                .then(data => {\n",
<<<<<<< HEAD
    "                    const resultsList = document.getElementById('results');\n",
    "                    resultsList.innerHTML = ''; // Clear previous results\n",
=======
    "                    const resultsDiv = document.getElementById('results');\n",
    "                    resultsDiv.innerHTML = ''; // Clear past results\n",
>>>>>>> 1300410eff526543e76dfce2f973581644263800
    "                    if (data.length === 0) {\n",
    "                        const noResultsItem = document.createElement('li');\n",
    "                        noResultsItem.textContent = 'No recipes found for these ingredients.';\n",
    "                        resultsList.appendChild(noResultsItem);\n",
    "                    } else {\n",
    "                        data.forEach(recipe => {\n",
<<<<<<< HEAD
    "                            const recipeItem = document.createElement('li');\n",
    "                            recipeItem.innerHTML = `<strong>${recipe.title}</strong>`;\n",
    "                            // Create a list of missing ingredients\n",
    "                            const missingIngredients = recipe.missedIngredients.map(ingredient => ingredient.name);\n",
    "                            // Add missing ingredients to the list item\n",
    "                            recipeItem.innerHTML += `<br>Missing Ingredients: ${missingIngredients.join(', ')}`;\n",
    "                            resultsList.appendChild(recipeItem);\n",
=======
    "                            const li = document.createElement('li');\n",
    "                            li.textContent = recipe.title + \" (Likes: \" + recipe.likes + \")\";\n",
    "                            // Create a list of missing ingredients\n",
    "                            // the missing ingredients list\n",
    "                            const missingIngredients = recipe.missedIngredients.map(ingredient => ingredient.name);\n",
    "                            // Creates a list of the used ingredients\n",
    "                            const usedIngredients = recipe.usedIngredients.map(ingredient => ingredient.name);\n",
    "                            // Add missing and used ingredients to the list item\n",
    "                            li.innerHTML += \"<br>Missing Ingredients: \" + missingIngredients.join(', ');\n",
    "                            li.innerHTML += \"<br>Used Ingredients: \" + usedIngredients.join(', ');\n",
    "                            ul.appendChild(li);\n",
>>>>>>> 1300410eff526543e76dfce2f973581644263800
    "                        });\n",
    "                    }\n",
    "                })\n",
    "                .catch(error => {\n",
    "                    console.error('Error fetching recipes:', error);\n",
    "                });\n",
    "        });\n",
    "    </script>\n",
    "</body>\n",
    "</html>\n",
    "\"\"\"\n",
<<<<<<< HEAD
    "\n",
    "display(HTML(html_code))\n"
=======
    "display(HTML(html_code))"
>>>>>>> 1300410eff526543e76dfce2f973581644263800
   ]
  }
 ],
 "metadata": {
  "kernelspec": {
   "display_name": "Python 3",
   "language": "python",
   "name": "python3"
  },
  "language_info": {
   "codemirror_mode": {
    "name": "ipython",
    "version": 3
   },
   "file_extension": ".py",
   "mimetype": "text/x-python",
   "name": "python",
   "nbconvert_exporter": "python",
   "pygments_lexer": "ipython3",
   "version": "3.11.5"
  },
  "orig_nbformat": 4
 },
 "nbformat": 4,
 "nbformat_minor": 2
}
