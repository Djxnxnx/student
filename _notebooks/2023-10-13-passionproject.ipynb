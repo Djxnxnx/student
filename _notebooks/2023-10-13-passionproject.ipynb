{
 "cells": [
  {
   "cell_type": "markdown",
   "metadata": {},
   "source": [
    "---\n",
    "layout: post\n",
    "title: Passion Project Front End\n",
    "description: Our passion project.\n",
    "toc: false\n",
    "comments: true\n",
    "categories: [5.A, C4.1]\n",
    "courses: { compsci: {week: 7} }\n",
    "type: tangibles\n",
    "---"
   ]
  },
  {
   "cell_type": "code",
   "execution_count": 4,
   "metadata": {
    "vscode": {
     "languageId": "javascript"
    }
   },
   "outputs": [
    {
     "name": "stdout",
     "output_type": "stream",
     "text": [
      "Recipe: Galbi Tang (Korean Beef Short Ribs Soup)\n",
      "Missing Ingredients: beef short ribs, glass noodles, scallions, sesame seeds, soy sauce, garlic\n",
      "Used Ingredients: korea radish, egg strips\n",
      "Likes: 1\n",
      "\n",
      "Recipe: Square Deviled Eggs\n",
      "Missing Ingredients: cream cheese, ham\n",
      "Used Ingredients: eggs\n",
      "Likes: 25\n",
      "\n",
      "Recipe: Nutella Buttercream Cupcakes with Hidden Cadbury Egg\n",
      "Missing Ingredients: milk, vanilla\n",
      "Used Ingredients: eggs\n",
      "Likes: 14\n",
      "\n",
      "Recipe: The Scotch Egg\n",
      "Missing Ingredients: pork sausage, panko breadcrumbs\n",
      "Used Ingredients: eggs\n",
      "Likes: 10\n",
      "\n",
      "Recipe: Toasted\" Agnolotti (or Ravioli)\n",
      "Missing Ingredients: g pre-made agnolotti/ravioli, breadcrumbs\n",
      "Used Ingredients: egg\n",
      "Likes: 7\n",
      "\n",
      "Recipe: Easy Cheesy Scrambled Eggs\n",
      "Missing Ingredients: milk, jack cheese\n",
      "Used Ingredients: eggs\n",
      "Likes: 3\n",
      "\n",
      "Recipe: Scotch Eggs\n",
      "Missing Ingredients: bulk sausage, corn meal\n",
      "Used Ingredients: eggs\n",
      "Likes: 2\n",
      "\n",
      "Recipe: Baked Custard\n",
      "Missing Ingredients: milk, vanilla\n",
      "Used Ingredients: eggs\n",
      "Likes: 1\n",
      "\n",
      "Recipe: Bread Omlette\n",
      "Missing Ingredients: bread crumbs, milk\n",
      "Used Ingredients: eggs\n",
      "Likes: 1\n",
      "\n",
      "Recipe: Your Basic Low Carb Breakfast\n",
      "Missing Ingredients: kirkland signature bacon, avocado, strawberries\n",
      "Used Ingredients: eggs\n",
      "Likes: 0\n",
      "\n"
     ]
    }
   ],
   "source": [
    "const axios = require('axios');\n",
    "const API_KEY = '84cfe45628de456c87a13a80b76f5bd8';\n",
    "const ingredients = 'ingredient1,ingredient2,ingredient3'; // Replace with your list of ingredients\n",
    "async function findRecipe() {\n",
    "  try {\n",
    "    const response = await axios.get(\n",
    "      `https://api.spoonacular.com/recipes/findByIngredients?apiKey=${API_KEY}&ingredients=${ingredients}&number=5`\n",
    "    );\n",
    "    const recipes = response.data;\n",
    "    if (recipes.length === 0) {\n",
    "      console.log('No recipes found for the given ingredients.');\n",
    "      return;\n",
    "    }\n",
    "    console.log('Recipes found:');\n",
    "    recipes.forEach((recipe, index) => {\n",
    "      console.log(`${index + 1}. ${recipe.title}`);\n",
    "      console.log(`   Missing ingredients: ${recipe.missedIngredientCount}`);\n",
    "      console.log(`   Used ingredients: ${recipe.usedIngredientCount}`);\n",
    "      console.log('--------------------------');\n",
    "    });\n",
    "  } catch (error) {\n",
    "    console.error('An error occurred:', error.message);\n",
    "  }\n",
    "}\n",
    "findRecipe();"
   ]
  }
 ],
 "metadata": {
  "kernelspec": {
   "display_name": "Python 3",
   "language": "python",
   "name": "python3"
  },
  "language_info": {
   "codemirror_mode": {
    "name": "ipython",
    "version": 3
   },
   "file_extension": ".py",
   "mimetype": "text/x-python",
   "name": "python",
   "nbconvert_exporter": "python",
   "pygments_lexer": "ipython3",
   "version": "3.11.6"
  },
  "orig_nbformat": 4
 },
 "nbformat": 4,
 "nbformat_minor": 2
}
