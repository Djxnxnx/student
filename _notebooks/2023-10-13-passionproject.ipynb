{
 "cells": [
  {
   "cell_type": "markdown",
   "metadata": {},
   "source": [
    "---\n",
    "layout: post\n",
    "title: Passion Project Front End\n",
    "description: Our passion project.\n",
    "toc: false\n",
    "comments: true\n",
    "categories: [5.A, C4.1]\n",
    "courses: { compsci: {week: 7} }\n",
    "type: tangibles\n",
    "---"
   ]
  },
  {
   "cell_type": "code",
   "execution_count": 4,
   "metadata": {},
   "outputs": [
    {
     "name": "stdout",
     "output_type": "stream",
     "text": [
      "Recipe: Galbi Tang (Korean Beef Short Ribs Soup)\n",
      "Missing Ingredients: beef short ribs, glass noodles, scallions, sesame seeds, soy sauce, garlic\n",
      "Used Ingredients: korea radish, egg strips\n",
      "Likes: 1\n",
      "\n",
      "Recipe: Square Deviled Eggs\n",
      "Missing Ingredients: cream cheese, ham\n",
      "Used Ingredients: eggs\n",
      "Likes: 25\n",
      "\n",
      "Recipe: Nutella Buttercream Cupcakes with Hidden Cadbury Egg\n",
      "Missing Ingredients: milk, vanilla\n",
      "Used Ingredients: eggs\n",
      "Likes: 14\n",
      "\n",
      "Recipe: The Scotch Egg\n",
      "Missing Ingredients: pork sausage, panko breadcrumbs\n",
      "Used Ingredients: eggs\n",
      "Likes: 10\n",
      "\n",
      "Recipe: Toasted\" Agnolotti (or Ravioli)\n",
      "Missing Ingredients: g pre-made agnolotti/ravioli, breadcrumbs\n",
      "Used Ingredients: egg\n",
      "Likes: 7\n",
      "\n",
      "Recipe: Easy Cheesy Scrambled Eggs\n",
      "Missing Ingredients: milk, jack cheese\n",
      "Used Ingredients: eggs\n",
      "Likes: 3\n",
      "\n",
      "Recipe: Scotch Eggs\n",
      "Missing Ingredients: bulk sausage, corn meal\n",
      "Used Ingredients: eggs\n",
      "Likes: 2\n",
      "\n",
      "Recipe: Baked Custard\n",
      "Missing Ingredients: milk, vanilla\n",
      "Used Ingredients: eggs\n",
      "Likes: 1\n",
      "\n",
      "Recipe: Bread Omlette\n",
      "Missing Ingredients: bread crumbs, milk\n",
      "Used Ingredients: eggs\n",
      "Likes: 1\n",
      "\n",
      "Recipe: Your Basic Low Carb Breakfast\n",
      "Missing Ingredients: kirkland signature bacon, avocado, strawberries\n",
      "Used Ingredients: eggs\n",
      "Likes: 0\n",
      "\n"
     ]
    }
   ],
   "source": [
    "import requests\n",
    "# Replace 'YOUR_SPOONACULAR_API_KEY' with your actual API key\n",
    "api_key = '84cfe45628de456c87a13a80b76f5bd8'\n",
    "def find_recipes_by_ingredients(ingredients):\n",
    "    base_url = 'https://api.spoonacular.com/recipes/findByIngredients'\n",
    "    params = {\n",
    "        'ingredients': ','.join(ingredients),\n",
    "        'apiKey': api_key\n",
    "    }\n",
    "    try:\n",
    "        response = requests.get(base_url, params=params)\n",
    "        response.raise_for_status()\n",
    "        recipes = response.json()\n",
    "        if not recipes:\n",
    "            print('No recipes found for the given ingredients.')\n",
    "        else:\n",
    "            for recipe in recipes:\n",
    "                print(f\"Recipe: {recipe['title']}\")\n",
    "                missed_ingredients = [ingredient['name'] for ingredient in recipe['missedIngredients']]\n",
    "                used_ingredients = [ingredient['name'] for ingredient in recipe['usedIngredients']]\n",
    "                print(f\"Missing Ingredients: {', '.join(missed_ingredients)}\")\n",
    "                print(f\"Used Ingredients: {', '.join(used_ingredients)}\")\n",
    "                print(f\"Likes: {recipe['likes']}\")\n",
    "                print()\n",
    "    except requests.exceptions.RequestException as e:\n",
    "        print(f\"An error occurred: {e}\")\n",
    "if __name__ == '__main__':\n",
    "    ingredients = input(\"Enter ingredients (comma-separated): \").split(',')\n",
    "    find_recipes_by_ingredients(ingredients)"
   ]
  }
 ],
 "metadata": {
  "kernelspec": {
   "display_name": "Python 3",
   "language": "python",
   "name": "python3"
  },
  "language_info": {
   "codemirror_mode": {
    "name": "ipython",
    "version": 3
   },
   "file_extension": ".py",
   "mimetype": "text/x-python",
   "name": "python",
   "nbconvert_exporter": "python",
   "pygments_lexer": "ipython3",
   "version": "3.11.6"
  },
  "orig_nbformat": 4
 },
 "nbformat": 4,
 "nbformat_minor": 2
}
