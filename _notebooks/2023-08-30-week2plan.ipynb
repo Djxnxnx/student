{
 "cells": [
  {
   "cell_type": "markdown",
   "metadata": {},
   "source": [
    "---\n",
    "layout: post\n",
    "title: Week 2 Plan\n",
    "description: My plan for the second week.\n",
    "toc: false\n",
    "comments: false\n",
    "categories: [5.A, C4.1]\n",
    "courses: { compsci: {week: 2} }\n",
    "type: plans\n",
    "---"
   ]
  },
  {
   "cell_type": "markdown",
   "metadata": {},
   "source": [
    "&nbsp;         \n",
    "&nbsp;         \n",
    "&nbsp;         \n",
    "&nbsp;         \n",
    "&nbsp;         \n",
    "&nbsp;         \n",
    "&nbsp;         \n",
    "&nbsp;         \n",
    "&nbsp; \n",
    "\n",
    "## Plans\n",
    "\n",
    "Get a working snake game and learn how to use notebooks to create seperate pages. Also, I would hope to get my website onto a github link."
   ]
  }
 ],
 "metadata": {
  "language_info": {
   "name": "python"
  },
  "orig_nbformat": 4
 },
 "nbformat": 4,
 "nbformat_minor": 2
}
