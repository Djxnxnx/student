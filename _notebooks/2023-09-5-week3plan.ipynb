{
 "cells": [
  {
   "cell_type": "markdown",
   "metadata": {},
   "source": [
    "---\n",
    "layout: post\n",
    "title: Week 3 Plan\n",
    "description: My plan for the third week.\n",
    "toc: false\n",
    "comments: false\n",
    "categories: [5.A, C4.1]\n",
    "courses: { compsci: {week: 3} }\n",
    "type: plans\n",
    "---"
   ]
  },
  {
   "cell_type": "markdown",
   "metadata": {},
   "source": [
    "## Plan for Tuesday and Wednesday\n",
    "\n",
    "Import a custom theme and add it to our site.\n",
    "\n",
    "## Plan for Thursday and Friday\n",
    "\n",
    "Create a something using all of the tools we know and put it on our site."
   ]
  }
 ],
 "metadata": {
  "language_info": {
   "name": "python"
  },
  "orig_nbformat": 4
 },
 "nbformat": 4,
 "nbformat_minor": 2
}
