{
 "cells": [
  {
   "cell_type": "code",
   "execution_count": 1,
   "metadata": {},
   "outputs": [
    {
     "name": "stdout",
     "output_type": "stream",
     "text": [
      "Hello World!\n"
     ]
    }
   ],
   "source": [
    "print(\"Hello World!\")"
   ]
  },
  {
   "cell_type": "code",
   "execution_count": 6,
   "metadata": {},
   "outputs": [
    {
     "name": "stdout",
     "output_type": "stream",
     "text": [
      "Your favorite color is monkeu.\n"
     ]
    }
   ],
   "source": [
    "x = input(\"What is your favorite color\")\n",
    "\n",
    "print(\"Your favorite color is \" + x + \".\")"
   ]
  },
  {
   "cell_type": "code",
   "execution_count": 13,
   "metadata": {},
   "outputs": [
    {
     "name": "stdout",
     "output_type": "stream",
     "text": [
      "Original List: [76, 23, 45, 12, 54, 9, 2]\n",
      "Sorted List [2, 9, 12, 23, 45, 54, 76]\n"
     ]
    }
   ],
   "source": [
    "notSortedList=[76, 23, 45, 12, 54, 9,2]\n",
    "print(\"Original List:\", notSortedList)\n",
    " \n",
    "# sorting list using nested loops\n",
    "for i in range(0, len(notSortedList)):\n",
    "    for j in range(i+1, len(notSortedList)):\n",
    "        if notSortedList[i] >= notSortedList[j]:\n",
    "            notSortedList[i], notSortedList[j] = notSortedList[j],notSortedList[i]\n",
    " \n",
    "# sorted list\n",
    "print(\"Sorted List\", notSortedList)"
   ]
  },
  {
   "cell_type": "markdown",
   "metadata": {},
   "source": [
    "<!DOCTYPE html>\n",
    "<html>\n",
    "<head>\n",
    "    <title>NBA Player Guesser Game</title>\n",
    "</head>\n",
    "<body>\n",
    "    <h1>NBA Player Guesser Game</h1>\n",
    "    <p>You have 5 attempts to guess the NBA player's name. Clues will be provided after each incorrect attempt.</p>\n",
    "\n",
    "    <script>\n",
    "        // Define NBA players, their names, and clues\n",
    "        const nbaPlayers = [\n",
    "            { name: \"LeBron James\", clues: [\"He has played for 3 NBA teams\", \"Lived in Akron, Ohio\", \"Often referred to as 'The King.'\",\"Returned to his first team to win a championship\",\"Has won multiple NBA championships.\"] },\n",
    "            { name: \"Stephen Curry\", clues: [\"Known for incredible three-point shooting skills.\", \"Holds the record for most three-pointers made in a season.\",\"Won a championship with a snake\",\"Great court awareness\", \"Good perimeter defense\"] },\n",
    "            // Add more NBA players and their clues here\n",
    "            {name: \"Kobe Bryant\", clues: [\n",
    "                \"Known as the 'Black Mamba.'\",\n",
    "                \"Won multiple NBA championships with the Lakers.\",\n",
    "                \"Scored 81 points in a single game.\",\n",
    "                \"Played his entire career with one team.\",\n",
    "                \"One of the greatest shooting guards in NBA history.\"] },\n",
    "            { name: \"Kevin Durant\", clues: [\n",
    "                \"Known for his scoring ability and versatility.\",\n",
    "                \"Has won NBA championships with two different teams.\",\n",
    "                \"Played college basketball at Texas.\",\n",
    "                \"Nickname starts with 'K.D.'\",\n",
    "                \"Joined the Brooklyn Nets in 2019.\"\n",
    "            ] } \n",
    "        ];\n",
    "\n",
    "        // Function to start the game\n",
    "        function startGame() {\n",
    "            let attempts = 5;\n",
    "            \n",
    "            for (const player of nbaPlayers) {\n",
    "                let correctAnswer = player.name;\n",
    "                let guess;\n",
    "                \n",
    "                for (let i = attempts; i > 0; i--) {\n",
    "                    guess = prompt(`Attempt ${attempts - i + 1} of ${attempts}\\n\\nGuess the NBA player's name:`);\n",
    "                    \n",
    "                    if (!guess) {\n",
    "                        break; // Exit the inner loop if the user cancels or submits an empty input\n",
    "                    }\n",
    "                    \n",
    "                    if (guess.trim().toLowerCase() === correctAnswer.toLowerCase()) {\n",
    "                        alert(`Congratulations! You guessed it correctly. The player is ${correctAnswer}.`);\n",
    "                        break; // Exit the inner loop on a correct guess\n",
    "                    } else if (i > 1) {\n",
    "                        alert(`Sorry, that's not correct. You have ${i - 1} attempts left.\\n\\nClue: ${player.clues[i - 2]}`);\n",
    "                    } else {\n",
    "                        alert(`Sorry, you've run out of attempts. The correct answer was ${correctAnswer}.`);\n",
    "                    }\n",
    "                }\n",
    "            }\n",
    "            \n",
    "            alert(\"Game Over. Thanks for playing!\");\n",
    "        }\n",
    "\n",
    "        // Start the game when the page loads\n",
    "        startGame();\n",
    "    </script>\n",
    "</body>\n",
    "</html>\n"
   ]
  }
 ],
 "metadata": {
  "kernelspec": {
   "display_name": "Python 3",
   "language": "python",
   "name": "python3"
  },
  "language_info": {
   "codemirror_mode": {
    "name": "ipython",
    "version": 3
   },
   "file_extension": ".py",
   "mimetype": "text/x-python",
   "name": "python",
   "nbconvert_exporter": "python",
   "pygments_lexer": "ipython3",
   "version": "3.8.2"
  },
  "orig_nbformat": 4
 },
 "nbformat": 4,
 "nbformat_minor": 2
}
