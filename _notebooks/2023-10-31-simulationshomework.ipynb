{
 "cells": [
  {
   "cell_type": "markdown",
   "metadata": {},
   "source": [
    "---\n",
    "layout: post\n",
    "title: Simulation Homework\n",
    "description: Simulation homework.\n",
    "toc: false\n",
    "comments: true\n",
    "categories: [5.A, C4.1]\n",
    "courses: { compsci: {week: 11} }\n",
    "type: tangibles\n",
    "---"
   ]
  },
  {
   "cell_type": "code",
   "execution_count": null,
   "metadata": {},
   "outputs": [],
   "source": [
    "def sort_four_numbers(a, b, c, d):\n",
    "    # Create a list with the four numbers\n",
    "    numbers = [a, b, c, d]\n",
    "    \n",
    "    # Use the sorted function to sort the list in ascending order\n",
    "    sorted_numbers = sorted(numbers)\n",
    "    \n",
    "    # Return the sorted numbers\n",
    "    return sorted_numbers\n",
    "\n",
    "# Example usage:\n",
    "num1, num2, num3, num4 = 10, 5, 7, 3\n",
    "sorted_nums = sort_four_numbers(num1, num2, num3, num4)\n",
    "print(sorted_nums)\n"
   ]
  },
  {
   "cell_type": "markdown",
   "metadata": {},
   "source": [
    "## Benefits of simulations\n",
    "\n",
    "1. In a simulation there is a risk free environment for experimentation. This allows for people to conduct experiments without the risk of loss of human life.\n",
    "\n",
    "2. Simulations are also very cost efficient. They also minimize the amount of time required to do an experiment.\n",
    "\n",
    "3. Simulations can also be used to train new comers. They can be used to simulate real life scenaraios which is helpful in training people.\n",
    "\n",
    "## Negatives of simulations\n",
    "\n",
    "1. Simulations make a lot of assumptions on what would happen in a scenario which might not always be true. If the models are innacurrate or the assumptions are flawed, then the simulation might not be realistic."
   ]
  },
  {
   "cell_type": "markdown",
   "metadata": {},
   "source": [
    "## Simulations in real life\n",
    "\n",
    "One aspect of social media that uses simulations is the generated content. It uses the posts and videos you interact with to generate new ones. This is called personalized generation."
   ]
  }
 ],
 "metadata": {
  "kernelspec": {
   "display_name": "Python 3",
   "language": "python",
   "name": "python3"
  },
  "language_info": {
   "codemirror_mode": {
    "name": "ipython",
    "version": 3
   },
   "file_extension": ".py",
   "mimetype": "text/x-python",
   "name": "python",
   "nbconvert_exporter": "python",
   "pygments_lexer": "ipython3",
   "version": "3.8.2"
  },
  "orig_nbformat": 4
 },
 "nbformat": 4,
 "nbformat_minor": 2
}
