{
 "cells": [
  {
   "cell_type": "code",
   "execution_count": null,
   "metadata": {},
   "outputs": [],
   "source": [
    "print(\"Hello World!\")"
   ]
  },
  {
   "cell_type": "code",
   "execution_count": null,
   "metadata": {},
   "outputs": [],
   "source": [
    "x = input(\"What is your favorite color\")\n",
    "\n",
    "print(\"Your favorite color is \" + x + \".\")"
   ]
  },
  {
   "cell_type": "code",
   "execution_count": null,
   "metadata": {},
   "outputs": [],
   "source": [
    "notSortedList=[76, 23, 45, 12, 54, 9,2]\n",
    "print(\"Original List:\", notSortedList)\n",
    " \n",
    "# sorting list using nested loops\n",
    "for i in range(0, len(notSortedList)):\n",
    "    for j in range(i+1, len(notSortedList)):\n",
    "        if notSortedList[i] >= notSortedList[j]:\n",
    "            notSortedList[i], notSortedList[j] = notSortedList[j],notSortedList[i]\n",
    " \n",
    "# sorted list\n",
    "print(\"Sorted List\", notSortedList)"
   ]
  },
  {
   "cell_type": "code",
   "execution_count": null,
   "metadata": {},
   "outputs": [],
   "source": [
    "top5_superbowl_rings = {\n",
    "    \"New England Patriots\": \"6\",\n",
    "    \"Pittsburgh Steelers\": \"6\",\n",
    "    \"San Francisco 49ers\": \"5\",\n",
    "    \"Dallas Cowboys\": \"5\",\n",
    "    \"Green Bay Packers\": \"4\"\n",
    "\n",
    "}\n",
    "\n",
    "print(top5_superbowl_rings)"
   ]
  },
  {
   "cell_type": "code",
   "execution_count": null,
   "metadata": {},
   "outputs": [],
   "source": [
    "# A simple Python program to demonstrate working of iterators using an example type\n",
    "# iterates from 1 to whatever number\n",
    "\n",
    "# A user defined type\n",
    "class Test:\n",
    "\n",
    "\tdef __init__(self, max):\n",
    "\t\tself.max = max\n",
    "\n",
    "\t# Creates iterator object\n",
    "\t# Called when iteration is initialized\n",
    "\tdef __iter__(self):\n",
    "\t\tself.x = 1\n",
    "\t\treturn self\n",
    "\t\n",
    "\tdef __next__(self):\n",
    "\n",
    "\t\t# Store current value of x\n",
    "\t\tx = self.x\n",
    "\n",
    "\t\t# Stop iteration if limit is reached\n",
    "\t\tif x > self.max:\n",
    "\t\t\traise StopIteration\n",
    "\n",
    "\t\t# otherwise increment and return old value\n",
    "\t\tself.x = x + 1;\n",
    "\t\treturn x\n",
    "\n",
    "\n",
    "# Prints numbers from 1 to 15\n",
    "for i in Test(30):\n",
    "\tprint(i)\n"
   ]
  },
  {
   "cell_type": "code",
   "execution_count": null,
   "metadata": {},
   "outputs": [],
   "source": [
    "pickAColor = input(\"Red or Blue\")\n",
    "\n",
    "if(pickAColor == \"Red\" or pickAColor == \"red\"):\n",
    "    pickANumber = input(\"10 or 20\")\n",
    "    if(pickANumber == \"10\"):\n",
    "        print(\"You like 10\")\n",
    "    elif(pickANumber == \"20\"):\n",
    "        print(\"You like 20\")\n",
    "    else:\n",
    "        print(\"You don't like 10 or 20\")\n",
    "elif(pickAColor == \"Blue\" or pickAColor == \"blue\"):\n",
    "    pickANumber = input(\"60 or 70\")\n",
    "    if(pickANumber == \"60\"):\n",
    "        print(\"You like 60\")\n",
    "    elif(pickANumber == \"70\"):\n",
    "        print(\"You like 70\")\n",
    "    else:\n",
    "        print(\"You don't like 60 or 70\")\n",
    "else:\n",
    "    print(\"Please pick red or blue\")"
   ]
  },
  {
   "cell_type": "code",
   "execution_count": null,
   "metadata": {},
   "outputs": [],
   "source": [
    "# Define the tax brackets and rates\n",
    "tax_brackets = [(0, 10000, 0.10), (10001, 50000, 0.20), (50001, 100000, 0.30), (100001, None, 0.40)]\n",
    "\n",
    "# Function to calculate income tax\n",
    "def calculate_tax(income):\n",
    "    tax = 0\n",
    "    remaining_income = income\n",
    "\n",
    "    for bracket in tax_brackets:\n",
    "        min_income, max_income, rate = bracket\n",
    "\n",
    "        if remaining_income <= 0:\n",
    "            break\n",
    "\n",
    "        if max_income is None or remaining_income <= max_income:\n",
    "            taxable_income = remaining_income - min_income\n",
    "        else:\n",
    "            taxable_income = max_income - min_income\n",
    "\n",
    "        if taxable_income > 0:\n",
    "            tax += taxable_income * rate\n",
    "            remaining_income -= taxable_income\n",
    "\n",
    "    return tax\n",
    "\n",
    "# Input income from the user\n",
    "try:\n",
    "    income = float(input(\"Enter your annual income: $\"))\n",
    "    if income < 0:\n",
    "        print(\"Income cannot be negative.\")\n",
    "    else:\n",
    "        tax_amount = calculate_tax(income)\n",
    "        print(f\"Your income tax: ${tax_amount:.2f}\")\n",
    "except ValueError:\n",
    "    print(\"Invalid input. Please enter a valid income as a number.\")\n"
   ]
  }
 ],
 "metadata": {
  "kernelspec": {
   "display_name": "Python 3 (ipykernel)",
   "language": "python",
   "name": "python3"
  },
  "language_info": {
   "codemirror_mode": {
    "name": "ipython",
    "version": 3
   },
   "file_extension": ".py",
   "mimetype": "text/x-python",
   "name": "python",
   "nbconvert_exporter": "python",
   "pygments_lexer": "ipython3",
   "version": "3.8.2"
  }
 },
 "nbformat": 4,
 "nbformat_minor": 4
}
