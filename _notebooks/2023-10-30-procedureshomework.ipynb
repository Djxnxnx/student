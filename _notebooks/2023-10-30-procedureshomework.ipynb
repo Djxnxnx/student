{
 "cells": [
  {
   "cell_type": "markdown",
   "metadata": {},
   "source": [
    "---\n",
    "layout: post\n",
    "title: Procedures Homework\n",
    "description: Procedures homework.\n",
    "toc: false\n",
    "comments: true\n",
    "categories: [5.A, C4.1]\n",
    "courses: { compsci: {week: 10} }\n",
    "type: tangibles\n",
    "---"
   ]
  },
  {
   "cell_type": "code",
   "execution_count": 5,
   "metadata": {},
   "outputs": [
    {
     "name": "stdout",
     "output_type": "stream",
     "text": [
      "The sum of 7 and 5 is: 12\n"
     ]
    },
    {
     "data": {
      "text/plain": [
       "25"
      ]
     },
     "execution_count": 5,
     "metadata": {},
     "output_type": "execute_result"
    }
   ],
   "source": [
    "# Function to demonstrate procedural abstraction\n",
    "def procedural_abstraction(number):\n",
    "    # Square the input number\n",
    "    result = number * number\n",
    "    return result\n",
    "    \n",
    "\n",
    "# Function to calculate the sum of two numbers\n",
    "def summing_machine(first_number, second_number):\n",
    "    # Calculate the sum\n",
    "    result = first_number + second_number\n",
    "    return result\n",
    "\n",
    "# Calculate the sum of 7 and 5 using the summing_machine function\n",
    "result_sum = summing_machine(7, 5)\n",
    "\n",
    "# Print the result\n",
    "print(\"The sum of 7 and 5 is:\", result_sum)\n",
    "# Printing 5 squared\n",
    "procedural_abstraction(5)"
   ]
  }
 ],
 "metadata": {
  "kernelspec": {
   "display_name": "Python 3",
   "language": "python",
   "name": "python3"
  },
  "language_info": {
   "codemirror_mode": {
    "name": "ipython",
    "version": 3
   },
   "file_extension": ".py",
   "mimetype": "text/x-python",
   "name": "python",
   "nbconvert_exporter": "python",
   "pygments_lexer": "ipython3",
   "version": "3.8.2"
  },
  "orig_nbformat": 4
 },
 "nbformat": 4,
 "nbformat_minor": 2
}
