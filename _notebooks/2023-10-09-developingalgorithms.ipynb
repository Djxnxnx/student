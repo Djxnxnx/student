{
 "cells": [
  {
   "cell_type": "markdown",
   "metadata": {},
   "source": [
    "# Developing Algorithms\n",
    "\n",
    "## How to do simple operators in JS\n",
    "\n",
    "Use the \"+\" operator to add two numbers in JavaScript\n",
    "\n",
    "Use the \"-\" operator to subtract two numbers in JavaScript\n",
    "\n",
    "Use the \"*\" operator to multiply two numbers in JavaScript\n",
    "\n",
    "Use the \"/\" operator to divide two numbers in JavaScript\n",
    "\n",
    "Use the \"%\" operator to get the remainder of a division operation in JavaScript\n",
    "\n",
    "## How to find the mean in JS\n"
   ]
  },
  {
   "cell_type": "code",
   "execution_count": 21,
   "metadata": {
    "vscode": {
     "languageId": "javascript"
    }
   },
   "outputs": [
    {
     "data": {
      "application/javascript": "\nvar arry = [4,62,3,38];\n\nfunction calculateAverageOfArray(array) {\n    var total = 0;\n    var count = 0;\n\n    jQuery.each(arry, function(index, value) {\n        total += value;\n        count++;\n    });\n\n    return total / count;\n}\n\nconsole.log(\"The average of your list is \" + calculateAverageOfArray(arry));\n",
      "text/plain": [
       "<IPython.core.display.Javascript object>"
      ]
     },
     "metadata": {},
     "output_type": "display_data"
    }
   ],
   "source": [
    "%%js\n",
    "\n",
    "var arry = [4,62,3,38];\n",
    "\n",
    "function calculateAverageOfArray(array) {\n",
    "    var total = 0;\n",
    "    var count = 0;\n",
    "\n",
    "    jQuery.each(arry, function(index, value) {\n",
    "        total += value;\n",
    "        count++;\n",
    "    });\n",
    "\n",
    "    return total / count;\n",
    "}\n",
    "\n",
    "console.log(\"The average of your list is \" + calculateAverageOfArray(arry));"
   ]
  },
  {
   "cell_type": "markdown",
   "metadata": {},
   "source": [
    "## How to calculate the median"
   ]
  },
  {
   "cell_type": "code",
   "execution_count": 34,
   "metadata": {
    "vscode": {
     "languageId": "javascript"
    }
   },
   "outputs": [
    {
     "data": {
      "application/javascript": "\nfunction median(numbers) {\n    const sorted = Array.from(numbers).sort((a, b) => a - b);\n    const middle = Math.floor(sorted.length / 2);\n\n    if (sorted.length % 2 === 0) {\n        return (sorted[middle - 1] + sorted[middle]) / 2;\n    }\n\n    return sorted[middle];\n}\n\nconsole.log(median([7, 3, 10, 1, 8]));\n",
      "text/plain": [
       "<IPython.core.display.Javascript object>"
      ]
     },
     "metadata": {},
     "output_type": "display_data"
    }
   ],
   "source": [
    "%%js\n",
    "\n",
    "function median(numbers) {\n",
    "    const sorted = Array.from(numbers).sort((a, b) => a - b);\n",
    "    const middle = Math.floor(sorted.length / 2);\n",
    "\n",
    "    if (sorted.length % 2 === 0) {\n",
    "        return (sorted[middle - 1] + sorted[middle]) / 2;\n",
    "    }\n",
    "\n",
    "    return sorted[middle];\n",
    "}\n",
    "\n",
    "console.log(median([7, 3, 10, 1, 8]));"
   ]
  }
 ],
 "metadata": {
  "kernelspec": {
   "display_name": "Python 3",
   "language": "python",
   "name": "python3"
  },
  "language_info": {
   "codemirror_mode": {
    "name": "ipython",
    "version": 3
   },
   "file_extension": ".py",
   "mimetype": "text/x-python",
   "name": "python",
   "nbconvert_exporter": "python",
   "pygments_lexer": "ipython3",
   "version": "3.11.5"
  },
  "orig_nbformat": 4
 },
 "nbformat": 4,
 "nbformat_minor": 2
}
