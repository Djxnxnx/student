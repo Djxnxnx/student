{
 "cells": [
  {
   "cell_type": "markdown",
   "metadata": {},
   "source": [
    "---\n",
    "layout: post\n",
    "title: Week 7 Plan\n",
    "description: My plan for the seventh week.\n",
    "toc: false\n",
    "comments: false\n",
    "categories: [5.A, C4.1]\n",
    "courses: { compsci: {week: 7} }\n",
    "type: plans\n",
    "---"
   ]
  },
  {
   "cell_type": "markdown",
   "metadata": {},
   "source": [
    "## My plan for the seventh week\n",
    "\n",
    "Start working on frontend design for passion project\n",
    "\n",
    "Get an idea for passion project"
   ]
  }
 ],
 "metadata": {
  "language_info": {
   "name": "python"
  },
  "orig_nbformat": 4
 },
 "nbformat": 4,
 "nbformat_minor": 2
}
