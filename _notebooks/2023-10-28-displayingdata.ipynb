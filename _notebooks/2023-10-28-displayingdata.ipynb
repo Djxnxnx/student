{
 "cells": [
  {
   "cell_type": "markdown",
   "metadata": {},
   "source": [
    "---\n",
    "layout: post\n",
    "title: Displaying Our Data\n",
    "description: Displaying our received daata.\n",
    "toc: false\n",
    "comments: false\n",
    "categories: [5.A, C4.1]\n",
    "courses: { compsci: {week: 11} }\n",
    "type: hacks\n",
    "---"
   ]
  },
  {
   "cell_type": "code",
   "execution_count": null,
   "metadata": {
    "vscode": {
     "languageId": "javascript"
    }
   },
   "outputs": [],
   "source": [
    "let text = \"<table>\";\n",
    "for (let x in data) {\n",
    "    text += \"<tr><td>Recipe: \" + data[x].title + \"</td></tr>\";\n",
    "    if (data[x].image) {\n",
    "        text += \"<tr><td><img src='\" + data[x].image + \"' alt='Recipe Image'></td></tr>\";\n",
    "    } else {\n",
    "        text += \"<tr><td>Image not available</td></tr>\";\n",
    "    }\n",
    "    text += \"<tr><td>Likes: \" + data[x].likes + \"</td></tr>\";\n",
    "    text += \"<tr><td>Spoonacular ID: \" + data[x].id + \"</td></tr>\";\n",
    "}\n",
    "text += \"</table>\";\n",
    "document.getElementById(\"recipeForm\").innerHTML = text;"
   ]
  }
 ],
 "metadata": {
  "language_info": {
   "name": "python"
  },
  "orig_nbformat": 4
 },
 "nbformat": 4,
 "nbformat_minor": 2
}
