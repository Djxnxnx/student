{
 "cells": [
  {
   "cell_type": "markdown",
   "metadata": {},
   "source": [
    "---\n",
    "layout: post\n",
    "title: The Internet Homework\n",
    "description: My internet homework.\n",
    "toc: false\n",
    "comments: false\n",
    "categories: [5.A, C4.1]\n",
    "courses: { compsci: {week: 14} }\n",
    "type: tangibles\n",
    "---"
   ]
  },
  {
   "cell_type": "markdown",
   "metadata": {},
   "source": [
    "1. Higher bandwidths means that a device is able to run at faster speeds while lower bandwidths mean that a device will run at lower speeds. A device running at lower bandwidth will also experience more lag. An example would be a computer network.\n",
    "\n",
    "2. Families could utilize LANs for sharing documents or information within the house, while large technology corporations often prefer WANs because they facilitate international data transfers. A real world example is packet switching.\n",
    "\n",
    "3. Packet switching is the actoin of dividing data into packets during transmission, optimizing resource usage through adaptable routing to accommodate failures. The data packet follows a journey including packetization, network routing, and reassembly at the destination, ensuring quick and swift transfers."
   ]
  }
 ],
 "metadata": {
  "language_info": {
   "name": "python"
  },
  "orig_nbformat": 4
 },
 "nbformat": 4,
 "nbformat_minor": 2
}
