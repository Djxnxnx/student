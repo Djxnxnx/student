{
 "cells": [
  {
   "cell_type": "markdown",
   "metadata": {},
   "source": [
    "---\n",
    "layout: post\n",
    "title: Lesson 2 Homework\n",
    "description: My lesson 2 homework.\n",
    "toc: false\n",
    "comments: true\n",
    "categories: [5.A, C4.1]\n",
    "courses: { compsci: {week: 6} }\n",
    "type: tangibles\n",
    "---"
   ]
  },
  {
   "cell_type": "code",
   "execution_count": 12,
   "metadata": {
    "vscode": {
     "languageId": "javascript"
    }
   },
   "outputs": [
    {
     "data": {
      "application/javascript": "\nfunction bblSort(arr) { \n  \n    for (var i = 0; i < arr.length; i++) { \n  \n        \n        for (var j = 0; j < (arr.length - i - 1); j++) { \n  \n            \n            if (arr[j] > arr[j + 1]) { \n  \n                \n                var temp = arr[j] \n                arr[j] = arr[j + 1] \n                arr[j + 1] = temp \n            } \n        } \n    } \n  \n    \n    console.log(arr); \n} \n  \n// This is our unsorted array \nvar arr = [234, 43, 55, 63, 5, 6, 235, 547]; \n  \n \nbblSort(arr);\n\n",
      "text/plain": [
       "<IPython.core.display.Javascript object>"
      ]
     },
     "metadata": {},
     "output_type": "display_data"
    }
   ],
   "source": [
    "%%js\n",
    "\n",
    "function bblSort(arr) { \n",
    "  \n",
    "    for (var i = 0; i < arr.length; i++) { \n",
    "  \n",
    "        \n",
    "        for (var j = 0; j < (arr.length - i - 1); j++) { \n",
    "            \n",
    "            if (arr[j] > arr[j + 1]) {               \n",
    "                var temp = arr[j] \n",
    "                arr[j] = arr[j + 1] \n",
    "                arr[j + 1] = temp \n",
    "            } \n",
    "        } \n",
    "    } \n",
    "  \n",
    "    \n",
    "    console.log(arr); \n",
    "} \n",
    "  \n",
    "// This is our unsorted array \n",
    "var arr = [234, 43, 55, 63, 5, 6, 235, 547]; \n",
    "  \n",
    " \n",
    "bblSort(arr);\n",
    "\n"
   ]
  }
 ],
 "metadata": {
  "kernelspec": {
   "display_name": "Python 3",
   "language": "python",
   "name": "python3"
  },
  "language_info": {
   "codemirror_mode": {
    "name": "ipython",
    "version": 3
   },
   "file_extension": ".py",
   "mimetype": "text/x-python",
   "name": "python",
   "nbconvert_exporter": "python",
   "pygments_lexer": "ipython3",
   "version": "3.11.5"
  },
  "orig_nbformat": 4
 },
 "nbformat": 4,
 "nbformat_minor": 2
}
