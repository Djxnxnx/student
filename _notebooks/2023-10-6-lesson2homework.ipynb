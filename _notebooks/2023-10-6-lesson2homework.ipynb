{
 "cells": [
  {
   "cell_type": "markdown",
   "metadata": {},
   "source": [
    "---\n",
    "layout: post\n",
    "title: Lesson 2 Homework\n",
    "description: My lesson 2 homework.\n",
    "toc: false\n",
    "comments: true\n",
    "categories: [5.A, C4.1]\n",
    "courses: { compsci: {week: 7} }\n",
    "type: tangibles\n",
    "---"
   ]
  },
  {
   "cell_type": "code",
   "execution_count": 15,
   "metadata": {
    "vscode": {
     "languageId": "javascript"
    }
   },
   "outputs": [
    {
     "data": {
      "application/javascript": "\nvar arry = [84,83,97,93];\n\nfunction avgGradeCalc(array) {\n    var grade = 0;\n    var count = 0;\n\n    jQuery.each(arry, function(index, value) {\n        grade += value;\n        count++;\n    });\n\n    return grade / count;\n}\n\nconsole.log(\"Your average grade is \" + avgGradeCalc(arry) + \"%\");\n",
      "text/plain": [
       "<IPython.core.display.Javascript object>"
      ]
     },
     "metadata": {},
     "output_type": "display_data"
    }
   ],
   "source": [
    "%%js\n",
    "\n",
    "var arry = [84,83,97,93];\n",
    "\n",
    "function avgGradeCalc(array) {\n",
    "    var grade = 0;\n",
    "    var count = 0;\n",
    "\n",
    "    jQuery.each(arry, function(index, value) {\n",
    "        grade += value;\n",
    "        count++;\n",
    "    });\n",
    "\n",
    "    return grade / count;\n",
    "}\n",
    "\n",
    "console.log(\"Your average grade is \" + avgGradeCalc(arry) + \"%\");"
   ]
  },
  {
   "cell_type": "code",
   "execution_count": 2,
   "metadata": {},
   "outputs": [
    {
     "name": "stdout",
     "output_type": "stream",
     "text": [
      "Palindrome!\n"
     ]
    }
   ],
   "source": [
    "def palindrome_homework(word):\n",
    "    return word == word[::-1]\n",
    "user_input = input(\"Enter a word with only lowercase and 0 spaces: \")\n",
    "\n",
    "if palindrome_homework(user_input):\n",
    "    print(\"Palindrome!\")\n",
    "else:\n",
    "    print(\"This is not a palindrome\")"
   ]
  }
 ],
 "metadata": {
  "kernelspec": {
   "display_name": "Python 3",
   "language": "python",
   "name": "python3"
  },
  "language_info": {
   "codemirror_mode": {
    "name": "ipython",
    "version": 3
   },
   "file_extension": ".py",
   "mimetype": "text/x-python",
   "name": "python",
   "nbconvert_exporter": "python",
   "pygments_lexer": "ipython3",
   "version": "3.11.5"
  },
  "orig_nbformat": 4
 },
 "nbformat": 4,
 "nbformat_minor": 2
}
