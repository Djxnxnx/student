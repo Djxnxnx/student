{
 "cells": [
  {
   "cell_type": "markdown",
   "metadata": {},
   "source": [
    "---\n",
    "layout: post\n",
    "title: Lists and Search\n",
    "description: Lists and search homework.\n",
    "toc: false\n",
    "comments: true\n",
    "categories: [5.A, C4.1]\n",
    "courses: { compsci: {week: 7} }\n",
    "type: tangibles\n",
    "---"
   ]
  },
  {
   "cell_type": "code",
   "execution_count": null,
   "metadata": {},
   "outputs": [],
   "source": [
    "# create a list of numbers\n",
    "num = [10, 20, 30, 40, 50]\n",
    "\n",
    "# access the third element in the list\n",
    "third_element = num[2] \n",
    "\n",
    "#change the value at index 0\n",
    "num[0] = 5  \n",
    "\n",
    "# add a new element to the end of the list\n",
    "num.append(60) \n",
    "\n",
    "#remove the third element in the list\n",
    "del num[3]  \n",
    "\n",
    "#find the length of the list\n",
    "list_length = len(num) \n"
   ]
  },
  {
   "cell_type": "code",
   "execution_count": null,
   "metadata": {},
   "outputs": [],
   "source": [
    "import math\n",
    "\n",
    "def wrstCase(arr_length):\n",
    "    return math.log2(arr_length)\n",
    "\n",
    "arr_length = 20\n",
    "worstCaseIterations = wrstCase(arr_length)\n",
    "print(f\"Worst case binary search iterations for an array of length {arr_length}: {worstCaseIterations:.2f}\")\n"
   ]
  },
  {
   "cell_type": "markdown",
   "metadata": {},
   "source": [
    "## Homework 3\n",
    "\n",
    "A because the program is moving each number in the array into a new one. Then, every number is getting multiplied by two in the array. Therefore the final answer will just be the array multiplied by two."
   ]
  }
 ],
 "metadata": {
  "kernelspec": {
   "display_name": "Python 3",
   "language": "python",
   "name": "python3"
  },
  "language_info": {
   "codemirror_mode": {
    "name": "ipython",
    "version": 3
   },
   "file_extension": ".py",
   "mimetype": "text/x-python",
   "name": "python",
   "nbconvert_exporter": "python",
   "pygments_lexer": "ipython3",
   "version": "3.8.2"
  },
  "orig_nbformat": 4
 },
 "nbformat": 4,
 "nbformat_minor": 2
}
