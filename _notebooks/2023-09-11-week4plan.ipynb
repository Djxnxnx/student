{
 "cells": [
  {
   "cell_type": "markdown",
   "metadata": {},
   "source": [
    "---\n",
    "layout: post\n",
    "title: Week 4 Plan\n",
    "description: My plan for the fourth week.\n",
    "toc: false\n",
    "comments: false\n",
    "categories: [5.A, C4.1]\n",
    "courses: { compsci: {week: 4} }\n",
    "type: plans\n",
    "---"
   ]
  },
  {
   "cell_type": "markdown",
   "metadata": {},
   "source": [
    "## Task List:\n",
    "\n",
    "- [ ] Create a weather database based with data from an API\n",
    "- [ ] Create a player guesser with NBA players\n",
    "- [ ] Make it so the player can change the background color of the snake game"
   ]
  }
 ],
 "metadata": {
  "language_info": {
   "name": "python"
  },
  "orig_nbformat": 4
 },
 "nbformat": 4,
 "nbformat_minor": 2
}
