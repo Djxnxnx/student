{
 "cells": [
  {
   "cell_type": "markdown",
   "metadata": {},
   "source": [
    "---\n",
    "layout: post\n",
    "title: My Fault Tolerance Homework\n",
    "description: My fault tolerance.\n",
    "toc: false\n",
    "comments: false\n",
    "categories: [5.A, C4.1]\n",
    "courses: { compsci: {week: 14} }\n",
    "type: tangibles\n",
    "---"
   ]
  },
  {
   "cell_type": "markdown",
   "metadata": {},
   "source": [
    "## Fault Tolerant Diagram\n",
    "\n",
    "This is fault tolerant because it allows the system to retry so it can keep retrying until it reaches the end."
   ]
  },
  {
   "cell_type": "code",
   "execution_count": null,
   "metadata": {
    "vscode": {
     "languageId": "html"
    }
   },
   "outputs": [],
   "source": [
    "<img src=\"/Users/taruntata/vscode/student/images/Fault Tolerant.png\" alt=\"Fault Tolerant Diagram\">"
   ]
  },
  {
   "cell_type": "markdown",
   "metadata": {},
   "source": [
    "## Not Fault Tolerant Diagram\n",
    "\n",
    "This is not fault tolerant because if the program fails, then the code cannot reach the end."
   ]
  },
  {
   "cell_type": "code",
   "execution_count": null,
   "metadata": {
    "vscode": {
     "languageId": "html"
    }
   },
   "outputs": [],
   "source": [
    "<img src=\"/Users/taruntata/vscode/student/images/Not Fault Tolerant.png\" alt=\"Not Fault Tolerant Diagram\">"
   ]
  },
  {
   "cell_type": "code",
   "execution_count": 2,
   "metadata": {},
   "outputs": [
    {
     "name": "stdout",
     "output_type": "stream",
     "text": [
      "0\n",
      "1\n",
      "2\n",
      "3\n",
      "4\n",
      "5\n",
      "6\n",
      "7\n",
      "8\n",
      "9\n",
      "Time: 0.007156848907470703\n"
     ]
    }
   ],
   "source": [
    "import time\n",
    "\n",
    "startingtime = time.time()\n",
    "\n",
    "for x in range(10):\n",
    "  print(x)\n",
    "\n",
    "endingtime = time.time()\n",
    "print(\"Time:\", endingtime - startingtime)"
   ]
  },
  {
   "cell_type": "code",
   "execution_count": null,
   "metadata": {},
   "outputs": [],
   "source": [
    "import time\n",
    "import multiprocessing\n",
    "\n",
    "\n",
    "startingtime = time.time()\n",
    "\n",
    "def printNum(num):\n",
    "    print(num)\n",
    "\n",
    "if __name__ == '__main__':\n",
    "    pool = multiprocessing.Pool(processes=5)\n",
    "    pool,map(printNum, range(10))\n",
    "    pool.close()\n",
    "    pool.join()\n",
    "    \n",
    "endingtime = time.time()\n",
    "print(\"Your new time is: \", endingtime-startingtime)"
   ]
  }
 ],
 "metadata": {
  "kernelspec": {
   "display_name": "Python 3",
   "language": "python",
   "name": "python3"
  },
  "language_info": {
   "codemirror_mode": {
    "name": "ipython",
    "version": 3
   },
   "file_extension": ".py",
   "mimetype": "text/x-python",
   "name": "python",
   "nbconvert_exporter": "python",
   "pygments_lexer": "ipython3",
   "version": "3.8.2"
  },
  "orig_nbformat": 4
 },
 "nbformat": 4,
 "nbformat_minor": 2
}
