{
 "cells": [
  {
   "cell_type": "markdown",
   "metadata": {},
   "source": [
    "---\n",
    "layout: post\n",
    "title: Week 1 Plan\n",
    "description: My plan for the first full week.\n",
    "toc: false\n",
    "comments: false\n",
    "categories: [5.A, C4.1]\n",
    "courses: { compsci: {week: 1} }\n",
    "type: plans\n",
    "---"
   ]
  },
  {
   "cell_type": "markdown",
   "metadata": {},
   "source": [
    "&nbsp;         \n",
    "&nbsp;         \n",
    "&nbsp;         \n",
    "&nbsp;         \n",
    "&nbsp;         \n",
    "&nbsp;         \n",
    "&nbsp;         \n",
    "&nbsp;         \n",
    "&nbsp; \n",
    "\n",
    "## Plans\n",
    "\n",
    "My plan for the first full week of this class is to get a calculator running."
   ]
  }
 ],
 "metadata": {
  "language_info": {
   "name": "python"
  },
  "orig_nbformat": 4
 },
 "nbformat": 4,
 "nbformat_minor": 2
}
