{
 "cells": [
  {
   "cell_type": "markdown",
   "metadata": {},
   "source": [
    "---\n",
    "layout: post\n",
    "title: Week 1 Plan\n",
    "description: My plan for the first full week.\n",
    "toc: false\n",
    "comments: false\n",
    "categories: [5.A, C4.1]\n",
    "courses: { compsci: {week: 1} }\n",
    "type: plans\n",
    "---"
   ]
  },
  {
   "cell_type": "markdown",
   "metadata": {},
   "source": [
    "&nbsp;         \n",
    "&nbsp;         \n",
    "&nbsp;         \n",
    "&nbsp;         \n",
    "&nbsp;         \n",
    "&nbsp;         \n",
    "&nbsp;         \n",
    "&nbsp;         \n",
    "&nbsp; \n",
    "\n",
    "## Plan for Monday and Tuesday\n",
    "\n",
    "Get my calculator fully working and fully personalize my home page.\n",
    "\n",
    "## Plan for Wensday, Thursday, and Friday\n",
    "\n",
    "Get off of a localhost and onto a github link. Also, learn how to use jupyter notebooks."
   ]
  }
 ],
 "metadata": {
  "language_info": {
   "name": "python"
  },
  "orig_nbformat": 4
 },
 "nbformat": 4,
 "nbformat_minor": 2
}
