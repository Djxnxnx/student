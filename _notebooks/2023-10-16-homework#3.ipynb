{
 "cells": [
  {
   "cell_type": "markdown",
   "metadata": {},
   "source": [
    "---\n",
    "layout: post\n",
    "title: Booleans and If Statements\n",
    "description: Booleans and If statements.\n",
    "toc: false\n",
    "comments: true\n",
    "categories: [5.A, C4.1]\n",
    "courses: { compsci: {week: 8} }\n",
    "type: tangibles\n",
    "---"
   ]
  },
  {
   "cell_type": "code",
   "execution_count": null,
   "metadata": {},
   "outputs": [],
   "source": [
    "age = 15\n",
    "\n",
    "citisenship = True\n",
    "\n",
    "if citisenship and age >= 18:\n",
    "#this works when citizenship is true and your age is greater than or equal to 18\n",
    "    print(\"You can vote\")\n",
    "else:\n",
    "    print(\"You can't vote\")\n",
    "# if you aren't a citizen or you aren't over 18, then you can't vote"
   ]
  },
  {
   "cell_type": "code",
   "execution_count": null,
   "metadata": {},
   "outputs": [],
   "source": [
    "#ask for the users test score\n",
    "testScore = int(input(\"Please enter your test score: \"))\n",
    "# using the inputted grade, find what letter grade they get\n",
    "grade = \"\"\n",
    "if testScore < 25:\n",
    "    grade = \"F\"\n",
    "elif testScore >= 25 and testScore <= 45:\n",
    "    grade = \"E\"\n",
    "elif testScore > 45 and testScore <= 50:\n",
    "    grade = \"D\"\n",
    "elif testScore > 50 and testScore <= 60:\n",
    "    grade = \"C\"\n",
    "elif testScore > 60 and testScore <= 80:\n",
    "    grade = \"B\"\n",
    "else:\n",
    "    grade = \"A\"\n",
    "# print the letter grade they got\n",
    "print(\"Your grade is:\", grade)\n",
    "\n"
   ]
  },
  {
   "cell_type": "code",
   "execution_count": null,
   "metadata": {},
   "outputs": [],
   "source": [
    "def calculate_updated_salary(currentSalary, yos):\n",
    "    if yos > 5:\n",
    "        newSalary = currentSalary * 1.05  \n",
    "        # the salary goes up by 5% if worked more than 5 years\n",
    "        return newSalary\n",
    "    else:\n",
    "        return currentSalary  # keep the salary if you worked less than 5 years\n",
    "# get the salary from the user\n",
    "currentSalary = float(input(\"Enter your current salary: \"))\n",
    "# get the number of years they have worked\n",
    "yos = int(input(\"Enter the number of years you have serviced the company: \"))\n",
    "# find the updated salary\n",
    "newSalary = calculate_updated_salary(currentSalary, yos)\n",
    "# see if the salary updated and print the respective message\n",
    "if newSalary != currentSalary:\n",
    "    print(\"Your updated salary is: $\" + str(newSalary))\n",
    "else:\n",
    "    print(\"No change in your salary. Your current salary is: $\" + str(currentSalary))"
   ]
  },
  {
   "cell_type": "code",
   "execution_count": null,
   "metadata": {},
   "outputs": [],
   "source": [
    "def fibonacci(x):\n",
    "    if x==1:\n",
    "        return(0) # First terminating statement\n",
    "    if x == 2:\n",
    "        return(1) # Second terminating statement\n",
    "    else:\n",
    "        return(fibonacci(x-1)+ fibonacci(x-2))\n",
    "for i in range(8):\n",
    "    print(fibonacci(i+1))\n",
    "\n",
    "    "
   ]
  },
  {
   "cell_type": "markdown",
   "metadata": {},
   "source": [
    "It needs two variables because it needs to store two variables at a time. It needs the previous two variables to add."
   ]
  }
 ],
 "metadata": {
  "kernelspec": {
   "display_name": "Python 3",
   "language": "python",
   "name": "python3"
  },
  "language_info": {
   "codemirror_mode": {
    "name": "ipython",
    "version": 3
   },
   "file_extension": ".py",
   "mimetype": "text/x-python",
   "name": "python",
   "nbconvert_exporter": "python",
   "pygments_lexer": "ipython3",
   "version": "3.8.2"
  },
  "orig_nbformat": 4
 },
 "nbformat": 4,
 "nbformat_minor": 2
}
