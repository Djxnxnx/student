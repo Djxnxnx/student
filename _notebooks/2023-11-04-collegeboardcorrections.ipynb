{
 "cells": [
  {
   "cell_type": "markdown",
   "metadata": {},
   "source": [
    "---\n",
    "layout: post\n",
    "title: College Board Corrections\n",
    "description: My college board quiz corrections.\n",
    "toc: false\n",
    "comments: false\n",
    "categories: [5.A, C4.1]\n",
    "courses: { compsci: {week: 12} }\n",
    "type: tangibles\n",
    "---"
   ]
  },
  {
   "cell_type": "markdown",
   "metadata": {},
   "source": [
    "# College Board Test Corrections\n",
    "\n",
    "## Question 41\n",
    "\n",
    "I chose option C: I and III\n",
    "\n",
    "The correct answer was D: II and III\n",
    "\n",
    "III stated that the function would first sort, then keep palindromes, then shorten which was correct. However, option I said that it was going to do the shorten step before the keep palindromes step which is incorrect.\n",
    "\n",
    "## Question 63\n",
    "\n",
    "Line 4 should be removed because if the count is set to 0 inside the loop then the function will not give an accurate number of prime numbers in the list.\n",
    "\n",
    "I chose line 7 which was incorrect.\n",
    "\n",
    "Line 9 should also be removed because you should only increase the count of prime numbers in a list if the number is prime. If you increase it outside then it doesn't matter if the number is prime or not."
   ]
  }
 ],
 "metadata": {
  "language_info": {
   "name": "python"
  },
  "orig_nbformat": 4
 },
 "nbformat": 4,
 "nbformat_minor": 2
}
