{
 "cells": [
  {
   "cell_type": "markdown",
   "metadata": {},
   "source": [
    "---\n",
    "layout: post\n",
    "title: Getting Data From Spoonacular\n",
    "description: Code to get data from spoonacular.\n",
    "toc: false\n",
    "comments: false\n",
    "categories: [5.A, C4.1]\n",
    "courses: { compsci: {week: 9} }\n",
    "type: hacks\n",
    "---"
   ]
  },
  {
   "cell_type": "code",
   "execution_count": null,
   "metadata": {
    "vscode": {
     "languageId": "html"
    }
   },
   "outputs": [],
   "source": [
    "<script>\n",
    "    document.getElementById('recipeForm').addEventListener('submit', function (event) {\n",
    "        event.preventDefault();\n",
    "        const apiKey = '84cfe45628de456c87a13a80b76f5bd8'; \n",
    "        const ingredients = document.getElementById('ingredients').value;\n",
    "        const apiUrl = `https://api.spoonacular.com/recipes/findByIngredients?apiKey=${apiKey}&ingredients=${ingredients}`;\n",
    "        fetch(apiUrl)\n",
    "            .then(response => response.json())\n",
    "            .then(data => {\n",
    "                const resultsList = document.getElementById('results');\n",
    "                resultsList.innerHTML = ''; \n",
    "                if (data.length === 0) {\n",
    "                    const noResultsItem = document.createElement('li');\n",
    "                    noResultsItem.textContent = 'No recipes found for these ingredients.';\n",
    "                    resultsList.appendChild(noResultsItem);\n",
    "                } else {\n",
    "                    data.forEach(recipe => {\n",
    "                        const recipeItem = document.createElement('li');\n",
    "                        recipeItem.innerHTML = `<strong>${recipe.title}</strong> (Likes: ${recipe.likes})`;\n",
    "                        const missingIngredients = recipe.missedIngredients.map(ingredient => ingredient.name);\n",
    "                        const usedIngredients = recipe.usedIngredients.map(ingredient => ingredient.name);\n",
    "                        recipeItem.innerHTML += `<br>Missing Ingredients: ${missingIngredients.join(', ')}`;\n",
    "                        recipeItem.innerHTML += `<br>Used Ingredients: ${usedIngredients.join(', ')}`;\n",
    "                        resultsList.appendChild(recipeItem);\n",
    "                    });\n",
    "                }\n",
    "            })\n",
    "            .catch(error => {\n",
    "                console.error('Error fetching recipes:', error);\n",
    "            });\n",
    "    });\n",
    "</script>"
   ]
  }
 ],
 "metadata": {
  "language_info": {
   "name": "python"
  },
  "orig_nbformat": 4
 },
 "nbformat": 4,
 "nbformat_minor": 2
}
