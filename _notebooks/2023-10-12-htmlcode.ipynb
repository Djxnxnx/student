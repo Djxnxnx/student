{
 "cells": [
  {
   "attachments": {},
   "cell_type": "markdown",
   "metadata": {},
   "source": [
    "---\n",
    "layout: post\n",
    "title: HTML Code\n",
    "description: First bit of HTML code.\n",
    "toc: false\n",
    "comments: false\n",
    "categories: [5.A, C4.1]\n",
    "courses: { compsci: {week: 8} }\n",
    "type: hacks\n",
    "---"
   ]
  },
  {
   "cell_type": "code",
   "execution_count": null,
   "metadata": {
    "vscode": {
     "languageId": "html"
    }
   },
   "outputs": [],
   "source": [
    "<!DOCTYPE html>\n",
    "<html>\n",
    "<head>\n",
    "    <title>Recipe Finder</title>\n",
    "    <style>\n",
    "        body {\n",
    "            font-family: 'Lucida Sans', 'Lucida Sans Regular', 'Lucida Grande', 'Lucida Sans Unicode', Geneva, Verdana, sans-serif;\n",
    "            margin: 0;\n",
    "        }\n",
    "        .container {\n",
    "            display: flex;\n",
    "            flex-direction: column;\n",
    "            align-items: center;\n",
    "            justify-content: center;\n",
    "            text-align: center;\n",
    "            min-height: 100vh;\n",
    "        }\n",
    "        #recipeForm {\n",
    "            text-align: center;\n",
    "            background-color: #f0f0f0;\n",
    "            padding: 20px;\n",
    "            border-radius: 10px;\n",
    "        }\n",
    "        #ingredients {\n",
    "            width: 100%;\n",
    "            padding: 10px;\n",
    "            border: 1px solid #ccc;\n",
    "            border-radius: 5px;\n",
    "            margin-bottom: 10px;\n",
    "        }\n",
    "        #results {\n",
    "            text-align: center;\n",
    "            margin-top: 20px;\n",
    "        }\n",
    "        h1 {\n",
    "            font-size: 36px;\n",
    "            align-items: center;\n",
    "            justify-content: center;\n",
    "            text-align: center;\n",
    "        }\n",
    "        h2 {\n",
    "            font-size: 24px;\n",
    "        }\n",
    "    </style>\n",
    "</head>\n"
   ]
  }
 ],
 "metadata": {
  "kernelspec": {
   "display_name": "Python 3 (ipykernel)",
   "language": "python",
   "name": "python3"
  },
  "language_info": {
   "codemirror_mode": {
    "name": "ipython",
    "version": 3
   },
   "file_extension": ".py",
   "mimetype": "text/x-python",
   "name": "python",
   "nbconvert_exporter": "python",
   "pygments_lexer": "ipython3",
   "version": "3.8.2"
  },
  "vscode": {
   "interpreter": {
    "hash": "aee8b7b246df8f9039afb4144a1f6fd8d2ca17a180786b69acc140d282b71a49"
   }
  }
 },
 "nbformat": 4,
 "nbformat_minor": 4
}
