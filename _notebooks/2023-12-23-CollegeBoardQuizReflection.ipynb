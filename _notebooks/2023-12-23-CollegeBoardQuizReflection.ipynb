{
 "cells": [
  {
   "cell_type": "markdown",
   "metadata": {},
   "source": [
    "---\n",
    "toc: false\n",
    "comments: True\n",
    "layout: post\n",
    "title: College Board Quiz Reflection\n",
    "description: My college board quiz reflection\n",
    "type: tangibles\n",
    "courses: { compsci: {week: 17} }\n",
    "---"
   ]
  },
  {
   "cell_type": "markdown",
   "metadata": {},
   "source": [
    "# College Board Quiz Reflection\n",
    "\n",
    "## Journey to Learn the Material\n",
    "\n",
    "This College Board Quiz pushed my understanding and analytical skills. Some questions, I was not able to get because I did not have the proper knowledge required to complete the question. Reviewing these questions and learning how to tackle them in the future is essential to my growth as a CSP student. I got a 61/67 which was a slight decrease from my previous score. I think this was because last trimesters team teach presentations were much better than this trimesters. I was able to fully understand and take in the knowledge that they presented about.\n",
    "\n",
    "## Test Corrections\n",
    "\n",
    "## Question 5\n",
    "\n",
    "Incorrect Answer: Chose option A (\"A = true,  B = false, C = false, D = true\")\n",
    "Explanation: My knowledge of logic gates was not complete. I didn't understand the diagram in its entirety which led to me getting the question wrong. \n",
    "Personal Reflection: I can learn from my teamate, Ronit, how logic gates work because he created a logic gate tester. I can use this program to help learn how they work and get this question right in the future.\n",
    "\n",
    "## Question 11\n",
    "\n",
    "Incorrect Answer: Chose option B (\"Light yellow\")\n",
    "Explanation: I realised that the binary was used to get the numbers for the RGB values. However, I was confused how the values were formed from the binary values. I ruled out Nuetral Gray because 127 was far to low if all the values are ones. I also ruled out vivid yellow because 14 is too low for 4 ones. So I guessed between light yellow and ivory and I guessed wrong.\n",
    "Personal Reflection: I now realised that the binary values were correlated to the RGB values by addition. I had to add the values to get the color code and will do this from now on.\n",
    "\n",
    "## Question 23\n",
    "\n",
    "Incorrect Answer: Chose option C (\"available <- weekday or miles ≥ 20\")\n",
    "Explanation: My understanding of the flowchart was flawed leading to a miscalculation and the wrong answer. All the different paths confused me and distracted me from the true premise of the question.\n",
    "Personal Reflection: Learning how to read and understand flowcharts is a crucial part of coding. I need to learn how to fully understand and decifer flowcharts to become a better coder.\n",
    "\n",
    "## Question 41\n",
    "\n",
    "Incorrect Answer: Chose option D (\"II and III\")\n",
    "Explanation: I understood that statement 3 would first call TrimLeft to remove the date tag. This would then pass the result to TrimRight which would remove the file extension tag and this would leave the description. I failed to understand that Statement II would remove the rightmost eleven charcters which would remove more than desired and give the wrong description.\n",
    "Personal Reflection: Learning to analyse a procedure call is crucial to my growth as a coder. I should study and figure out how to properly analyze these calls so that I can grow as a CSP student.\n",
    "\n",
    "## Question 56\n",
    "\n",
    "Incorrect Answer: Chose Option C (\"Version II requires aproxmiately 1 more minute to execute than Version I\")\n",
    "Explanation: I understood that Version II would require more time because it wasn't as efficient as Version I. However, I didn't know how much more efficient Version I was leading me to the wrong answer.\n",
    "Personal Reflection: Learning how to see how much more efficient a program is is a key skill as a programer. I need to know what the most efficient way to find the result to a problem is. This could save a lot of time when dealing with bigger data sets.\n",
    "\n",
    "## Question 67\n",
    "\n",
    "Incorrect Answer: Chose option A and D\n",
    "Explanation: I understood that it wouldn't register the birch two times because it would reset the count. However, I thought that it would only reset the count when it encountered another of the same word. For this reason, I thought that maple would work because it didn't show up again so it wouldn't reset the count.\n",
    "Personal Reflection: Understanding sudo code is a very important skill that every coder needs to know. I think to further understand sudo code, I could watch some videos on how sudo code functions.\n"
   ]
  }
 ],
 "metadata": {
  "language_info": {
   "name": "python"
  },
  "orig_nbformat": 4
 },
 "nbformat": 4,
 "nbformat_minor": 2
}
