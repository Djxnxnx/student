{
 "cells": [
  {
   "cell_type": "markdown",
   "metadata": {},
   "source": [
    "---\n",
    "layout: post\n",
    "title: Connecting Frontend to Backend\n",
    "description: Our code to get data from frontend to backend.\n",
    "toc: false\n",
    "comments: false\n",
    "categories: [5.A, C4.1]\n",
    "courses: { compsci: {week: 11} }\n",
    "type: hacks\n",
    "---"
   ]
  },
  {
   "cell_type": "code",
   "execution_count": null,
   "metadata": {
    "vscode": {
     "languageId": "javascript"
    }
   },
   "outputs": [],
   "source": [
    "ingredients = document.getElementById('ingredients').value;\n",
    "const apiUrl = \"http://127.0.0.1:8762/api/recipes/getrecipes/\" + ingredients;\n",
    "const response = await fetch(apiUrl);\n",
    "var data = await response.json();\n",
    "console.log(data);"
   ]
  }
 ],
 "metadata": {
  "language_info": {
   "name": "python"
  },
  "orig_nbformat": 4
 },
 "nbformat": 4,
 "nbformat_minor": 2
}
